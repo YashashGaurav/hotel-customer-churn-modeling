{
  "cells": [
    {
      "cell_type": "markdown",
      "metadata": {
        "id": "view-in-github",
        "colab_type": "text"
      },
      "source": [
        "<a href=\"https://colab.research.google.com/github/YashashGaurav/hotel-customer-churn-modeling/blob/main/final_report.ipynb\" target=\"_parent\"><img src=\"https://colab.research.google.com/assets/colab-badge.svg\" alt=\"Open In Colab\"/></a>"
      ]
    },
    {
      "cell_type": "markdown",
      "id": "42de86b9",
      "metadata": {
        "id": "42de86b9"
      },
      "source": [
        "### Video link for the presentation: https://youtu.be/8nnSJDKhiQY\n",
        "\n"
      ]
    },
    {
      "cell_type": "markdown",
      "id": "33552941",
      "metadata": {
        "id": "33552941"
      },
      "source": [
        "# **Problem Domain and Project Goals**"
      ]
    },
    {
      "cell_type": "markdown",
      "id": "be5f2d4e",
      "metadata": {
        "id": "be5f2d4e"
      },
      "source": [
        "**Since the COVID-19 pandemic, free cancellation policy has become a common policy offered by most of the hotels in the U.S. to attract customers, since concerning the uncertain situations customers demand for more flexibility for their bookings [[eventtemple]](https://www.eventtemple.com/hotel-operations/hotel-cancellation-rates-a-thing-of-the-past/). Even though the COVID-19 situation is getting better, this policy is not likely to be cancelled, as hotels may be aware of losing their customers, considering that their competitors still maintain this policy. The research shows that the bookings cancellation rates in 2022 has reached 20%, which is a 33% increase from 2019 [[revenue-hub]](https://revenue-hub.com/three-most-common-trends-impacting-cancellation-rates/). The increase in cancellations does not only impact the hotel’s revenue, but also has an adverse impact on hotel’s marketing channels, since Online Travel Agencies keep track of cancellations of the hotel [[hotelminder]](https://www.hotelminder.com/everything-you-need-to-know-about-hotel-cancellations).**\n",
        "\n",
        "**Given these facts, the goal of this project is to find solutions to help hotels reducing the number of cancellations. To achieve that goal, we will use machine learning techniques, specifically classification techniques, to determine which customers are likely to cancel their bookings, based on customers’ booking information, such as booking date, the length of stay, number of people, types of a deposit, and special requests. Knowing the probability of cancellation of each reservation, the hotels will be able to tackle this problem with various solutions. For instance, they will be able to target the customers that are prone to cancel their reservations and offer an additional promotion to make them reconsider their decisions. Moreover, the hotels will have a better approximation on how many staffs and hotel essential amenities they will need on specific date or month. Therefore, they will be able to minimize their costs and increase revenue. In addition to being able to identify the customers that are likely to cancel their bookings, the machine learning techniques will enable hotels to identify the leading factors that cause cancellations, which in turn will give hotels an insight of which areas they should improve to make them become successful hotels.**\n",
        "\n",
        "\n",
        "**Considering the goal of this project, the task (`T`), performance (`P`), and experience (`E`) are as follows:**\n",
        "\n",
        "\n",
        "**- `Task` is to identify the probability of cancellation of a reservation. Alternatively, we would like to know which customer is likely to cancel his/her reservation.**\n",
        "\n",
        "\n",
        "**- `Performance` of this task is how precisely the hotels can point out the customers that are likely to cancel their reservations. More specifically, hotels want to correctly target the customers that tend to make cancellations, and do not want to miss any customer that they can reach out to convince them to not make cancellations.**\n",
        "\n",
        "\n",
        "\n",
        "**- `Experience` is the historical data of the hotel reservations that will allow the hotels to more confidently identify which customers tend to cancel their reservations, using the machine learning techniques.**"
      ]
    },
    {
      "cell_type": "markdown",
      "id": "40383400",
      "metadata": {
        "id": "40383400"
      },
      "source": [
        "# **Dataset**"
      ]
    },
    {
      "cell_type": "markdown",
      "id": "31383ca7",
      "metadata": {
        "id": "31383ca7"
      },
      "source": [
        "**The Hotel Booking Demand dataset provides historical information related to hotel reservations, such as types of hotel, the date that the reservation was made, the number of children, the number of adults, the length of stays, the number of required parking spaces, and the number of special requests. It consists of one table with 32 columns and 119,390 rows. It can be downloaded as a CSV file at the following link: https://www.kaggle.com/datasets/jessemostipak/hotel-booking-demand?select=hotel_bookings.csv.**"
      ]
    },
    {
      "cell_type": "markdown",
      "id": "56b0e95c",
      "metadata": {
        "id": "56b0e95c"
      },
      "source": [
        "# **Methods of Analysis**"
      ]
    },
    {
      "cell_type": "markdown",
      "id": "8ada7d18",
      "metadata": {
        "id": "8ada7d18"
      },
      "source": [
        "**We builds various classification models for our analysis, including Logistic Regression, K Nearest Neighbor, Decision Tree, Random Forest, XGBoost, and Artificial Neural Network. The target variable is 'is-cancelled', which indicates whether the reservtion was cancelled - 0 for not cancelled and 1 for cancelled. Our analysis consists of three majors steps - Data Preprocessing, Modelling, and Model Evaluation. The details for each are described in the following sections.**"
      ]
    },
    {
      "cell_type": "markdown",
      "id": "J9MQ76e1shHL",
      "metadata": {
        "id": "J9MQ76e1shHL"
      },
      "source": [
        "## **1. Data Preprocessing and EDA**"
      ]
    },
    {
      "cell_type": "markdown",
      "id": "26949d72",
      "metadata": {
        "id": "26949d72"
      },
      "source": [
        "**Some of the necessary packages for this analysis are downloaded.**"
      ]
    },
    {
      "cell_type": "code",
      "execution_count": null,
      "id": "P_ekRzjQJ-wl",
      "metadata": {
        "colab": {
          "base_uri": "https://localhost:8080/"
        },
        "id": "P_ekRzjQJ-wl",
        "outputId": "cd925291-dd4c-43d9-d120-6c6b083325df"
      },
      "outputs": [
        {
          "output_type": "stream",
          "name": "stdout",
          "text": [
            "Looking in indexes: https://pypi.org/simple, https://us-python.pkg.dev/colab-wheels/public/simple/\n",
            "Collecting scikeras\n",
            "  Downloading scikeras-0.9.0-py3-none-any.whl (27 kB)\n",
            "Requirement already satisfied: scikit-learn>=1.0.0 in /usr/local/lib/python3.8/dist-packages (from scikeras) (1.0.2)\n",
            "Requirement already satisfied: packaging>=0.21 in /usr/local/lib/python3.8/dist-packages (from scikeras) (21.3)\n",
            "Requirement already satisfied: pyparsing!=3.0.5,>=2.0.2 in /usr/local/lib/python3.8/dist-packages (from packaging>=0.21->scikeras) (3.0.9)\n",
            "Requirement already satisfied: scipy>=1.1.0 in /usr/local/lib/python3.8/dist-packages (from scikit-learn>=1.0.0->scikeras) (1.7.3)\n",
            "Requirement already satisfied: threadpoolctl>=2.0.0 in /usr/local/lib/python3.8/dist-packages (from scikit-learn>=1.0.0->scikeras) (3.1.0)\n",
            "Requirement already satisfied: numpy>=1.14.6 in /usr/local/lib/python3.8/dist-packages (from scikit-learn>=1.0.0->scikeras) (1.21.6)\n",
            "Requirement already satisfied: joblib>=0.11 in /usr/local/lib/python3.8/dist-packages (from scikit-learn>=1.0.0->scikeras) (1.2.0)\n",
            "Installing collected packages: scikeras\n",
            "Successfully installed scikeras-0.9.0\n"
          ]
        }
      ],
      "source": [
        "try:\n",
        "    import scikeras\n",
        "except ImportError:\n",
        "    ! pip install scikeras"
      ]
    },
    {
      "cell_type": "code",
      "execution_count": null,
      "id": "78650cbf",
      "metadata": {
        "id": "78650cbf"
      },
      "outputs": [],
      "source": [
        "import time\n",
        "import pickle\n",
        "from typing import Dict, Iterable, List, Any\n",
        "\n",
        "\n",
        "import pandas as pd\n",
        "import numpy as np\n",
        "\n",
        "import matplotlib.pyplot as plt\n",
        "import plotly.express as px\n",
        "import seaborn as sns\n",
        "import altair as alt"
      ]
    },
    {
      "cell_type": "markdown",
      "id": "nAfGu6rvthgT",
      "metadata": {
        "id": "nAfGu6rvthgT"
      },
      "source": [
        "**We download the dataset from the 'hotel_bookings.csv' file and store it in a dataframe. The description of each columns can be found [here](https://www.kaggle.com/datasets/jessemostipak/hotel-booking-demand). Then we look at the overall information of the dataset, such as number of rows, number of columns, features, and data types.**"
      ]
    },
    {
      "cell_type": "code",
      "source": [
        "from google.colab import files\n",
        "uploaded = files.upload()"
      ],
      "metadata": {
        "id": "Hr7Lj_E7OjGf"
      },
      "id": "Hr7Lj_E7OjGf",
      "execution_count": null,
      "outputs": []
    },
    {
      "cell_type": "code",
      "execution_count": null,
      "id": "6b502069",
      "metadata": {
        "id": "6b502069"
      },
      "outputs": [],
      "source": [
        "# read data and store in DataFrame\n",
        "df = pd.read_csv(\"hotel_bookings.csv\")"
      ]
    },
    {
      "cell_type": "code",
      "execution_count": null,
      "id": "6dc7fca7",
      "metadata": {
        "colab": {
          "base_uri": "https://localhost:8080/"
        },
        "id": "6dc7fca7",
        "outputId": "0044aa1e-ef1f-4068-a009-84bec81317a3"
      },
      "outputs": [
        {
          "output_type": "stream",
          "name": "stdout",
          "text": [
            "<class 'pandas.core.frame.DataFrame'>\n",
            "RangeIndex: 119390 entries, 0 to 119389\n",
            "Data columns (total 32 columns):\n",
            " #   Column                          Non-Null Count   Dtype  \n",
            "---  ------                          --------------   -----  \n",
            " 0   hotel                           119390 non-null  object \n",
            " 1   is_canceled                     119390 non-null  int64  \n",
            " 2   lead_time                       119390 non-null  int64  \n",
            " 3   arrival_date_year               119390 non-null  int64  \n",
            " 4   arrival_date_month              119390 non-null  object \n",
            " 5   arrival_date_week_number        119390 non-null  int64  \n",
            " 6   arrival_date_day_of_month       119390 non-null  int64  \n",
            " 7   stays_in_weekend_nights         119390 non-null  int64  \n",
            " 8   stays_in_week_nights            119390 non-null  int64  \n",
            " 9   adults                          119390 non-null  int64  \n",
            " 10  children                        119386 non-null  float64\n",
            " 11  babies                          119390 non-null  int64  \n",
            " 12  meal                            119390 non-null  object \n",
            " 13  country                         118902 non-null  object \n",
            " 14  market_segment                  119390 non-null  object \n",
            " 15  distribution_channel            119390 non-null  object \n",
            " 16  is_repeated_guest               119390 non-null  int64  \n",
            " 17  previous_cancellations          119390 non-null  int64  \n",
            " 18  previous_bookings_not_canceled  119390 non-null  int64  \n",
            " 19  reserved_room_type              119390 non-null  object \n",
            " 20  assigned_room_type              119390 non-null  object \n",
            " 21  booking_changes                 119390 non-null  int64  \n",
            " 22  deposit_type                    119390 non-null  object \n",
            " 23  agent                           103050 non-null  float64\n",
            " 24  company                         6797 non-null    float64\n",
            " 25  days_in_waiting_list            119390 non-null  int64  \n",
            " 26  customer_type                   119390 non-null  object \n",
            " 27  adr                             119390 non-null  float64\n",
            " 28  required_car_parking_spaces     119390 non-null  int64  \n",
            " 29  total_of_special_requests       119390 non-null  int64  \n",
            " 30  reservation_status              119390 non-null  object \n",
            " 31  reservation_status_date         119390 non-null  object \n",
            "dtypes: float64(4), int64(16), object(12)\n",
            "memory usage: 29.1+ MB\n"
          ]
        }
      ],
      "source": [
        "df.info()"
      ]
    },
    {
      "cell_type": "code",
      "execution_count": null,
      "id": "68f4a751",
      "metadata": {
        "colab": {
          "base_uri": "https://localhost:8080/",
          "height": 386
        },
        "id": "68f4a751",
        "outputId": "ca6204a9-113e-4da0-86df-1f785662d9e8"
      },
      "outputs": [
        {
          "output_type": "execute_result",
          "data": {
            "text/plain": [
              "          hotel  is_canceled  lead_time  arrival_date_year arrival_date_month  \\\n",
              "0  Resort Hotel            0        342               2015               July   \n",
              "1  Resort Hotel            0        737               2015               July   \n",
              "2  Resort Hotel            0          7               2015               July   \n",
              "3  Resort Hotel            0         13               2015               July   \n",
              "4  Resort Hotel            0         14               2015               July   \n",
              "\n",
              "   arrival_date_week_number  arrival_date_day_of_month  \\\n",
              "0                        27                          1   \n",
              "1                        27                          1   \n",
              "2                        27                          1   \n",
              "3                        27                          1   \n",
              "4                        27                          1   \n",
              "\n",
              "   stays_in_weekend_nights  stays_in_week_nights  adults  ...  deposit_type  \\\n",
              "0                        0                     0       2  ...    No Deposit   \n",
              "1                        0                     0       2  ...    No Deposit   \n",
              "2                        0                     1       1  ...    No Deposit   \n",
              "3                        0                     1       1  ...    No Deposit   \n",
              "4                        0                     2       2  ...    No Deposit   \n",
              "\n",
              "   agent company days_in_waiting_list customer_type   adr  \\\n",
              "0    NaN     NaN                    0     Transient   0.0   \n",
              "1    NaN     NaN                    0     Transient   0.0   \n",
              "2    NaN     NaN                    0     Transient  75.0   \n",
              "3  304.0     NaN                    0     Transient  75.0   \n",
              "4  240.0     NaN                    0     Transient  98.0   \n",
              "\n",
              "   required_car_parking_spaces  total_of_special_requests  reservation_status  \\\n",
              "0                            0                          0           Check-Out   \n",
              "1                            0                          0           Check-Out   \n",
              "2                            0                          0           Check-Out   \n",
              "3                            0                          0           Check-Out   \n",
              "4                            0                          1           Check-Out   \n",
              "\n",
              "  reservation_status_date  \n",
              "0              2015-07-01  \n",
              "1              2015-07-01  \n",
              "2              2015-07-02  \n",
              "3              2015-07-02  \n",
              "4              2015-07-03  \n",
              "\n",
              "[5 rows x 32 columns]"
            ],
            "text/html": [
              "\n",
              "  <div id=\"df-9fec3506-b213-4cd8-9ee7-4cdaec223ee0\">\n",
              "    <div class=\"colab-df-container\">\n",
              "      <div>\n",
              "<style scoped>\n",
              "    .dataframe tbody tr th:only-of-type {\n",
              "        vertical-align: middle;\n",
              "    }\n",
              "\n",
              "    .dataframe tbody tr th {\n",
              "        vertical-align: top;\n",
              "    }\n",
              "\n",
              "    .dataframe thead th {\n",
              "        text-align: right;\n",
              "    }\n",
              "</style>\n",
              "<table border=\"1\" class=\"dataframe\">\n",
              "  <thead>\n",
              "    <tr style=\"text-align: right;\">\n",
              "      <th></th>\n",
              "      <th>hotel</th>\n",
              "      <th>is_canceled</th>\n",
              "      <th>lead_time</th>\n",
              "      <th>arrival_date_year</th>\n",
              "      <th>arrival_date_month</th>\n",
              "      <th>arrival_date_week_number</th>\n",
              "      <th>arrival_date_day_of_month</th>\n",
              "      <th>stays_in_weekend_nights</th>\n",
              "      <th>stays_in_week_nights</th>\n",
              "      <th>adults</th>\n",
              "      <th>...</th>\n",
              "      <th>deposit_type</th>\n",
              "      <th>agent</th>\n",
              "      <th>company</th>\n",
              "      <th>days_in_waiting_list</th>\n",
              "      <th>customer_type</th>\n",
              "      <th>adr</th>\n",
              "      <th>required_car_parking_spaces</th>\n",
              "      <th>total_of_special_requests</th>\n",
              "      <th>reservation_status</th>\n",
              "      <th>reservation_status_date</th>\n",
              "    </tr>\n",
              "  </thead>\n",
              "  <tbody>\n",
              "    <tr>\n",
              "      <th>0</th>\n",
              "      <td>Resort Hotel</td>\n",
              "      <td>0</td>\n",
              "      <td>342</td>\n",
              "      <td>2015</td>\n",
              "      <td>July</td>\n",
              "      <td>27</td>\n",
              "      <td>1</td>\n",
              "      <td>0</td>\n",
              "      <td>0</td>\n",
              "      <td>2</td>\n",
              "      <td>...</td>\n",
              "      <td>No Deposit</td>\n",
              "      <td>NaN</td>\n",
              "      <td>NaN</td>\n",
              "      <td>0</td>\n",
              "      <td>Transient</td>\n",
              "      <td>0.0</td>\n",
              "      <td>0</td>\n",
              "      <td>0</td>\n",
              "      <td>Check-Out</td>\n",
              "      <td>2015-07-01</td>\n",
              "    </tr>\n",
              "    <tr>\n",
              "      <th>1</th>\n",
              "      <td>Resort Hotel</td>\n",
              "      <td>0</td>\n",
              "      <td>737</td>\n",
              "      <td>2015</td>\n",
              "      <td>July</td>\n",
              "      <td>27</td>\n",
              "      <td>1</td>\n",
              "      <td>0</td>\n",
              "      <td>0</td>\n",
              "      <td>2</td>\n",
              "      <td>...</td>\n",
              "      <td>No Deposit</td>\n",
              "      <td>NaN</td>\n",
              "      <td>NaN</td>\n",
              "      <td>0</td>\n",
              "      <td>Transient</td>\n",
              "      <td>0.0</td>\n",
              "      <td>0</td>\n",
              "      <td>0</td>\n",
              "      <td>Check-Out</td>\n",
              "      <td>2015-07-01</td>\n",
              "    </tr>\n",
              "    <tr>\n",
              "      <th>2</th>\n",
              "      <td>Resort Hotel</td>\n",
              "      <td>0</td>\n",
              "      <td>7</td>\n",
              "      <td>2015</td>\n",
              "      <td>July</td>\n",
              "      <td>27</td>\n",
              "      <td>1</td>\n",
              "      <td>0</td>\n",
              "      <td>1</td>\n",
              "      <td>1</td>\n",
              "      <td>...</td>\n",
              "      <td>No Deposit</td>\n",
              "      <td>NaN</td>\n",
              "      <td>NaN</td>\n",
              "      <td>0</td>\n",
              "      <td>Transient</td>\n",
              "      <td>75.0</td>\n",
              "      <td>0</td>\n",
              "      <td>0</td>\n",
              "      <td>Check-Out</td>\n",
              "      <td>2015-07-02</td>\n",
              "    </tr>\n",
              "    <tr>\n",
              "      <th>3</th>\n",
              "      <td>Resort Hotel</td>\n",
              "      <td>0</td>\n",
              "      <td>13</td>\n",
              "      <td>2015</td>\n",
              "      <td>July</td>\n",
              "      <td>27</td>\n",
              "      <td>1</td>\n",
              "      <td>0</td>\n",
              "      <td>1</td>\n",
              "      <td>1</td>\n",
              "      <td>...</td>\n",
              "      <td>No Deposit</td>\n",
              "      <td>304.0</td>\n",
              "      <td>NaN</td>\n",
              "      <td>0</td>\n",
              "      <td>Transient</td>\n",
              "      <td>75.0</td>\n",
              "      <td>0</td>\n",
              "      <td>0</td>\n",
              "      <td>Check-Out</td>\n",
              "      <td>2015-07-02</td>\n",
              "    </tr>\n",
              "    <tr>\n",
              "      <th>4</th>\n",
              "      <td>Resort Hotel</td>\n",
              "      <td>0</td>\n",
              "      <td>14</td>\n",
              "      <td>2015</td>\n",
              "      <td>July</td>\n",
              "      <td>27</td>\n",
              "      <td>1</td>\n",
              "      <td>0</td>\n",
              "      <td>2</td>\n",
              "      <td>2</td>\n",
              "      <td>...</td>\n",
              "      <td>No Deposit</td>\n",
              "      <td>240.0</td>\n",
              "      <td>NaN</td>\n",
              "      <td>0</td>\n",
              "      <td>Transient</td>\n",
              "      <td>98.0</td>\n",
              "      <td>0</td>\n",
              "      <td>1</td>\n",
              "      <td>Check-Out</td>\n",
              "      <td>2015-07-03</td>\n",
              "    </tr>\n",
              "  </tbody>\n",
              "</table>\n",
              "<p>5 rows × 32 columns</p>\n",
              "</div>\n",
              "      <button class=\"colab-df-convert\" onclick=\"convertToInteractive('df-9fec3506-b213-4cd8-9ee7-4cdaec223ee0')\"\n",
              "              title=\"Convert this dataframe to an interactive table.\"\n",
              "              style=\"display:none;\">\n",
              "        \n",
              "  <svg xmlns=\"http://www.w3.org/2000/svg\" height=\"24px\"viewBox=\"0 0 24 24\"\n",
              "       width=\"24px\">\n",
              "    <path d=\"M0 0h24v24H0V0z\" fill=\"none\"/>\n",
              "    <path d=\"M18.56 5.44l.94 2.06.94-2.06 2.06-.94-2.06-.94-.94-2.06-.94 2.06-2.06.94zm-11 1L8.5 8.5l.94-2.06 2.06-.94-2.06-.94L8.5 2.5l-.94 2.06-2.06.94zm10 10l.94 2.06.94-2.06 2.06-.94-2.06-.94-.94-2.06-.94 2.06-2.06.94z\"/><path d=\"M17.41 7.96l-1.37-1.37c-.4-.4-.92-.59-1.43-.59-.52 0-1.04.2-1.43.59L10.3 9.45l-7.72 7.72c-.78.78-.78 2.05 0 2.83L4 21.41c.39.39.9.59 1.41.59.51 0 1.02-.2 1.41-.59l7.78-7.78 2.81-2.81c.8-.78.8-2.07 0-2.86zM5.41 20L4 18.59l7.72-7.72 1.47 1.35L5.41 20z\"/>\n",
              "  </svg>\n",
              "      </button>\n",
              "      \n",
              "  <style>\n",
              "    .colab-df-container {\n",
              "      display:flex;\n",
              "      flex-wrap:wrap;\n",
              "      gap: 12px;\n",
              "    }\n",
              "\n",
              "    .colab-df-convert {\n",
              "      background-color: #E8F0FE;\n",
              "      border: none;\n",
              "      border-radius: 50%;\n",
              "      cursor: pointer;\n",
              "      display: none;\n",
              "      fill: #1967D2;\n",
              "      height: 32px;\n",
              "      padding: 0 0 0 0;\n",
              "      width: 32px;\n",
              "    }\n",
              "\n",
              "    .colab-df-convert:hover {\n",
              "      background-color: #E2EBFA;\n",
              "      box-shadow: 0px 1px 2px rgba(60, 64, 67, 0.3), 0px 1px 3px 1px rgba(60, 64, 67, 0.15);\n",
              "      fill: #174EA6;\n",
              "    }\n",
              "\n",
              "    [theme=dark] .colab-df-convert {\n",
              "      background-color: #3B4455;\n",
              "      fill: #D2E3FC;\n",
              "    }\n",
              "\n",
              "    [theme=dark] .colab-df-convert:hover {\n",
              "      background-color: #434B5C;\n",
              "      box-shadow: 0px 1px 3px 1px rgba(0, 0, 0, 0.15);\n",
              "      filter: drop-shadow(0px 1px 2px rgba(0, 0, 0, 0.3));\n",
              "      fill: #FFFFFF;\n",
              "    }\n",
              "  </style>\n",
              "\n",
              "      <script>\n",
              "        const buttonEl =\n",
              "          document.querySelector('#df-9fec3506-b213-4cd8-9ee7-4cdaec223ee0 button.colab-df-convert');\n",
              "        buttonEl.style.display =\n",
              "          google.colab.kernel.accessAllowed ? 'block' : 'none';\n",
              "\n",
              "        async function convertToInteractive(key) {\n",
              "          const element = document.querySelector('#df-9fec3506-b213-4cd8-9ee7-4cdaec223ee0');\n",
              "          const dataTable =\n",
              "            await google.colab.kernel.invokeFunction('convertToInteractive',\n",
              "                                                     [key], {});\n",
              "          if (!dataTable) return;\n",
              "\n",
              "          const docLinkHtml = 'Like what you see? Visit the ' +\n",
              "            '<a target=\"_blank\" href=https://colab.research.google.com/notebooks/data_table.ipynb>data table notebook</a>'\n",
              "            + ' to learn more about interactive tables.';\n",
              "          element.innerHTML = '';\n",
              "          dataTable['output_type'] = 'display_data';\n",
              "          await google.colab.output.renderOutput(dataTable, element);\n",
              "          const docLink = document.createElement('div');\n",
              "          docLink.innerHTML = docLinkHtml;\n",
              "          element.appendChild(docLink);\n",
              "        }\n",
              "      </script>\n",
              "    </div>\n",
              "  </div>\n",
              "  "
            ]
          },
          "metadata": {},
          "execution_count": 5
        }
      ],
      "source": [
        "df.head()"
      ]
    },
    {
      "cell_type": "markdown",
      "id": "fc8822d4",
      "metadata": {
        "id": "fc8822d4"
      },
      "source": [
        "**In the first step, we go through the data dictionary to understand what each column means and find that there is some information that should not be available at the time of prediction. Hence, we drop those columns, which include:**\n",
        "\n",
        "**1. assigned_room_type: type of the room assigned to customer once the booking had been confirmed.<br>2. booking_changes: number of changes made to booking from the moment the booking was entered on the system until the moment of check-in or cancellation.<br>3. days_in_waiting_list: Number of days the booking was in the waiting list before it was confirmed to the customer<br>4. reservation_status: the last status of the reservation<br>5. reservation_status_date: the date that the last status of the reservation was set**"
      ]
    },
    {
      "cell_type": "code",
      "execution_count": null,
      "id": "43d69d5c",
      "metadata": {
        "id": "43d69d5c"
      },
      "outputs": [],
      "source": [
        "# We should not include the data that is not available at the time of \n",
        "# prediction. Hence, we drop some of the columns.\n",
        "# 1. assigned_room_type:        type of the room assigned to customer once the\n",
        "#                               booking had been confirmed.\n",
        "# 2. booking_changes:           number of changes made to booking from the \n",
        "#                               moment the booking was entered on the system\n",
        "#                               until the moment of check-in or cancellation.\n",
        "# 3. days_in_waiting_list:      Number of days the booking was in the waiting \n",
        "#                               list before it was confirmed to the customer\n",
        "# 4. reservation_status:        the last status of the reservation\n",
        "# 5. reservation_status_date:   the date that the last status of the\n",
        "#                               reservation was set\n",
        "\n",
        "df = df.drop(columns={\n",
        "    'assigned_room_type', \n",
        "    'booking_changes',\n",
        "    'days_in_waiting_list', \n",
        "    'reservation_status', \n",
        "    'reservation_status_date'\n",
        "})"
      ]
    },
    {
      "cell_type": "markdown",
      "id": "c64fd10e",
      "metadata": {
        "id": "c64fd10e"
      },
      "source": [
        "**We also drop agent column and company column, as these two columns indicate the numerical id of the agent and company and that information is not useful for our analysis.**"
      ]
    },
    {
      "cell_type": "code",
      "execution_count": null,
      "id": "2c45909c",
      "metadata": {
        "id": "2c45909c"
      },
      "outputs": [],
      "source": [
        "# We also drop the columns that are not useful for our analysis\n",
        "# 1. agent:     the numerical ID of the agaent\n",
        "# 2. company:   the numerical ID of the company\n",
        "\n",
        "df = df.drop(columns={'agent', 'company'})"
      ]
    },
    {
      "cell_type": "markdown",
      "id": "495ae5ab",
      "metadata": {
        "id": "495ae5ab"
      },
      "source": [
        "**We check how many columns we have left after dropping some columns and also look for null values in each columns. We find that we have null values only in country column. However, the number of null values in this columns is only 0.53% of the total number of rows. Thus, we decide to drop all those rows with null values.**"
      ]
    },
    {
      "cell_type": "code",
      "execution_count": null,
      "id": "7ed6fbcf",
      "metadata": {
        "colab": {
          "base_uri": "https://localhost:8080/"
        },
        "id": "7ed6fbcf",
        "outputId": "0e143185-6f04-4ca9-d100-720b3cda3fef"
      },
      "outputs": [
        {
          "output_type": "execute_result",
          "data": {
            "text/plain": [
              "34091"
            ]
          },
          "metadata": {},
          "execution_count": 8
        }
      ],
      "source": [
        "# check duplicated rows\n",
        "df.duplicated().sum()"
      ]
    },
    {
      "cell_type": "code",
      "execution_count": null,
      "id": "ec65b815",
      "metadata": {
        "id": "ec65b815"
      },
      "outputs": [],
      "source": [
        "# drop duplicates\n",
        "df = df.drop_duplicates()"
      ]
    },
    {
      "cell_type": "code",
      "execution_count": null,
      "id": "119e5151",
      "metadata": {
        "colab": {
          "base_uri": "https://localhost:8080/"
        },
        "id": "119e5151",
        "outputId": "63db3e47-ac1d-41b4-ecd2-c2dfd8517783"
      },
      "outputs": [
        {
          "output_type": "stream",
          "name": "stdout",
          "text": [
            "<class 'pandas.core.frame.DataFrame'>\n",
            "Int64Index: 85299 entries, 0 to 119389\n",
            "Data columns (total 25 columns):\n",
            " #   Column                          Non-Null Count  Dtype  \n",
            "---  ------                          --------------  -----  \n",
            " 0   hotel                           85299 non-null  object \n",
            " 1   is_canceled                     85299 non-null  int64  \n",
            " 2   lead_time                       85299 non-null  int64  \n",
            " 3   arrival_date_year               85299 non-null  int64  \n",
            " 4   arrival_date_month              85299 non-null  object \n",
            " 5   arrival_date_week_number        85299 non-null  int64  \n",
            " 6   arrival_date_day_of_month       85299 non-null  int64  \n",
            " 7   stays_in_weekend_nights         85299 non-null  int64  \n",
            " 8   stays_in_week_nights            85299 non-null  int64  \n",
            " 9   adults                          85299 non-null  int64  \n",
            " 10  children                        85295 non-null  float64\n",
            " 11  babies                          85299 non-null  int64  \n",
            " 12  meal                            85299 non-null  object \n",
            " 13  country                         84849 non-null  object \n",
            " 14  market_segment                  85299 non-null  object \n",
            " 15  distribution_channel            85299 non-null  object \n",
            " 16  is_repeated_guest               85299 non-null  int64  \n",
            " 17  previous_cancellations          85299 non-null  int64  \n",
            " 18  previous_bookings_not_canceled  85299 non-null  int64  \n",
            " 19  reserved_room_type              85299 non-null  object \n",
            " 20  deposit_type                    85299 non-null  object \n",
            " 21  customer_type                   85299 non-null  object \n",
            " 22  adr                             85299 non-null  float64\n",
            " 23  required_car_parking_spaces     85299 non-null  int64  \n",
            " 24  total_of_special_requests       85299 non-null  int64  \n",
            "dtypes: float64(2), int64(14), object(9)\n",
            "memory usage: 16.9+ MB\n"
          ]
        }
      ],
      "source": [
        "# check for null values after dropping unneeded columns and duplicates\n",
        "df.info()"
      ]
    },
    {
      "cell_type": "code",
      "execution_count": null,
      "id": "8a793616",
      "metadata": {
        "colab": {
          "base_uri": "https://localhost:8080/"
        },
        "id": "8a793616",
        "outputId": "8d7e8ba9-f8d5-4076-bcb3-47352046276b"
      },
      "outputs": [
        {
          "output_type": "execute_result",
          "data": {
            "text/plain": [
              "0.527556008862941"
            ]
          },
          "metadata": {},
          "execution_count": 11
        }
      ],
      "source": [
        "# we notice that only the 'country' column has null fields\n",
        "# so check percentage of null values in country column\n",
        "df.isnull().sum()['country']*100/len(df)"
      ]
    },
    {
      "cell_type": "code",
      "execution_count": null,
      "id": "106ec258",
      "metadata": {
        "colab": {
          "base_uri": "https://localhost:8080/"
        },
        "id": "106ec258",
        "outputId": "618337fa-a6d0-4eec-fbff-49e97a7d55e8"
      },
      "outputs": [
        {
          "output_type": "stream",
          "name": "stdout",
          "text": [
            "<class 'pandas.core.frame.DataFrame'>\n",
            "Int64Index: 84845 entries, 0 to 119389\n",
            "Data columns (total 25 columns):\n",
            " #   Column                          Non-Null Count  Dtype  \n",
            "---  ------                          --------------  -----  \n",
            " 0   hotel                           84845 non-null  object \n",
            " 1   is_canceled                     84845 non-null  int64  \n",
            " 2   lead_time                       84845 non-null  int64  \n",
            " 3   arrival_date_year               84845 non-null  int64  \n",
            " 4   arrival_date_month              84845 non-null  object \n",
            " 5   arrival_date_week_number        84845 non-null  int64  \n",
            " 6   arrival_date_day_of_month       84845 non-null  int64  \n",
            " 7   stays_in_weekend_nights         84845 non-null  int64  \n",
            " 8   stays_in_week_nights            84845 non-null  int64  \n",
            " 9   adults                          84845 non-null  int64  \n",
            " 10  children                        84845 non-null  float64\n",
            " 11  babies                          84845 non-null  int64  \n",
            " 12  meal                            84845 non-null  object \n",
            " 13  country                         84845 non-null  object \n",
            " 14  market_segment                  84845 non-null  object \n",
            " 15  distribution_channel            84845 non-null  object \n",
            " 16  is_repeated_guest               84845 non-null  int64  \n",
            " 17  previous_cancellations          84845 non-null  int64  \n",
            " 18  previous_bookings_not_canceled  84845 non-null  int64  \n",
            " 19  reserved_room_type              84845 non-null  object \n",
            " 20  deposit_type                    84845 non-null  object \n",
            " 21  customer_type                   84845 non-null  object \n",
            " 22  adr                             84845 non-null  float64\n",
            " 23  required_car_parking_spaces     84845 non-null  int64  \n",
            " 24  total_of_special_requests       84845 non-null  int64  \n",
            "dtypes: float64(2), int64(14), object(9)\n",
            "memory usage: 16.8+ MB\n"
          ]
        }
      ],
      "source": [
        "# only 0.5% of rows have null values in country column \n",
        "# so we decide to drop these rows\n",
        "df = df.dropna()\n",
        "df.info()"
      ]
    },
    {
      "cell_type": "markdown",
      "id": "4b3e08d2",
      "metadata": {
        "id": "4b3e08d2"
      },
      "source": [
        "**After that, we move on to feature engineering and feature selection steps. We creates a new feature from three existing columns - arrival_date_year, arrival_date_month, and arrival_date_day_of_month columns. These columns combined indicate the arrival date of the customer. The new feature that we create is arrival_days_diff, which represents the date difference between January 1 of that year and arrival date. For instance, if the original arrival date is on January 15, 2017, the value of the new feature will be 14 (the date difference between January 1, 2017 and January 15, 2017). The resson that we comes up with this new feature is that it seems more effective to use this one feature than separated three features, since they indicate the same thing. More importantly, this also help to reduce number of categorical features, which we need to perform One-Hot-Encoding on in the later steps.**"
      ]
    },
    {
      "cell_type": "code",
      "execution_count": null,
      "id": "f7342aad",
      "metadata": {
        "id": "f7342aad"
      },
      "outputs": [],
      "source": [
        "# covert data types of arrival_date_month (str) to numerical month (int) \n",
        "df['arrival_date_month'] = pd.to_datetime(\n",
        "        df['arrival_date_month'], format='%B'\n",
        "    ).dt.month\n",
        "\n",
        "# create new column representing arrival yyyy-mm-dd \n",
        "df = df.rename(columns={'arrival_date_year':'year', 'arrival_date_month':'month', \n",
        "                        'arrival_date_day_of_month':'day'})\n",
        "df['arrival_ymd'] = pd.to_datetime(df[[\"year\", \"month\", \"day\"]])"
      ]
    },
    {
      "cell_type": "code",
      "execution_count": null,
      "id": "9161ffca",
      "metadata": {
        "id": "9161ffca"
      },
      "outputs": [],
      "source": [
        "# create new feature representing the date difference between January 1 of that year and arrival date\n",
        "df['arrival_days_diff'] = (\n",
        "        df['arrival_ymd'] - pd.to_datetime(df['year'], format='%Y')\n",
        "    ).dt.days"
      ]
    },
    {
      "cell_type": "code",
      "execution_count": null,
      "id": "d3d58c78",
      "metadata": {
        "id": "d3d58c78",
        "scrolled": true
      },
      "outputs": [],
      "source": [
        "# drop year, month, day, arrival_date_week_number, arrival_ymd columns\n",
        "df = df.drop(columns={\n",
        "        \"year\", \n",
        "        \"month\", \n",
        "        \"day\", \n",
        "        \"arrival_date_week_number\", \n",
        "        \"arrival_ymd\"\n",
        "    })"
      ]
    },
    {
      "cell_type": "code",
      "execution_count": null,
      "id": "e2ab7ce0",
      "metadata": {
        "colab": {
          "base_uri": "https://localhost:8080/"
        },
        "id": "e2ab7ce0",
        "outputId": "e2654f5c-14bf-4986-fd74-c29f663c93fa"
      },
      "outputs": [
        {
          "output_type": "stream",
          "name": "stdout",
          "text": [
            "<class 'pandas.core.frame.DataFrame'>\n",
            "Int64Index: 84845 entries, 0 to 119389\n",
            "Data columns (total 22 columns):\n",
            " #   Column                          Non-Null Count  Dtype  \n",
            "---  ------                          --------------  -----  \n",
            " 0   hotel                           84845 non-null  object \n",
            " 1   is_canceled                     84845 non-null  int64  \n",
            " 2   lead_time                       84845 non-null  int64  \n",
            " 3   stays_in_weekend_nights         84845 non-null  int64  \n",
            " 4   stays_in_week_nights            84845 non-null  int64  \n",
            " 5   adults                          84845 non-null  int64  \n",
            " 6   children                        84845 non-null  float64\n",
            " 7   babies                          84845 non-null  int64  \n",
            " 8   meal                            84845 non-null  object \n",
            " 9   country                         84845 non-null  object \n",
            " 10  market_segment                  84845 non-null  object \n",
            " 11  distribution_channel            84845 non-null  object \n",
            " 12  is_repeated_guest               84845 non-null  int64  \n",
            " 13  previous_cancellations          84845 non-null  int64  \n",
            " 14  previous_bookings_not_canceled  84845 non-null  int64  \n",
            " 15  reserved_room_type              84845 non-null  object \n",
            " 16  deposit_type                    84845 non-null  object \n",
            " 17  customer_type                   84845 non-null  object \n",
            " 18  adr                             84845 non-null  float64\n",
            " 19  required_car_parking_spaces     84845 non-null  int64  \n",
            " 20  total_of_special_requests       84845 non-null  int64  \n",
            " 21  arrival_days_diff               84845 non-null  int64  \n",
            "dtypes: float64(2), int64(12), object(8)\n",
            "memory usage: 14.9+ MB\n"
          ]
        }
      ],
      "source": [
        "df.info()"
      ]
    },
    {
      "cell_type": "markdown",
      "id": "93cdf10a",
      "metadata": {
        "id": "93cdf10a"
      },
      "source": [
        "**We divide the features into three categories: continuous feature, categorical feature, and binary feature.**"
      ]
    },
    {
      "cell_type": "code",
      "execution_count": null,
      "id": "ba086284",
      "metadata": {
        "colab": {
          "base_uri": "https://localhost:8080/"
        },
        "id": "ba086284",
        "outputId": "095022a8-4cbc-471e-d0d2-543ac9c021d9"
      },
      "outputs": [
        {
          "output_type": "execute_result",
          "data": {
            "text/plain": [
              "21"
            ]
          },
          "metadata": {},
          "execution_count": 17
        }
      ],
      "source": [
        "# define numerical and categorical features (target variable: is_canceled)\n",
        "continuous_features = ['lead_time', 'stays_in_weekend_nights', 'stays_in_week_nights',\n",
        "                       'adults', 'children','babies','previous_cancellations', \n",
        "                       'previous_bookings_not_canceled', 'adr', 'required_car_parking_spaces', \n",
        "                       'total_of_special_requests', 'arrival_days_diff']\n",
        "\n",
        "cat_features = ['hotel', 'meal', 'country', 'market_segment', 'distribution_channel', 'reserved_room_type',\n",
        "               'deposit_type', 'customer_type']\n",
        "\n",
        "binary_features = ['is_repeated_guest']\n",
        "len(continuous_features) + len(cat_features) + len(binary_features)"
      ]
    },
    {
      "cell_type": "markdown",
      "id": "64b85f49",
      "metadata": {
        "id": "64b85f49"
      },
      "source": [
        "**For the categorical features, we check the distinct values in each columns and then find that some columns have a value that solely exists in one row of the whole dataset. Meanwhile, some columns have hugh number of distinct values. We need to concern about these, since we need to perform One-Hot-Encoding on those features. Therefore, we make some changes to those values.**"
      ]
    },
    {
      "cell_type": "code",
      "execution_count": null,
      "id": "cb05b2c2",
      "metadata": {
        "id": "cb05b2c2"
      },
      "outputs": [],
      "source": [
        "def distinct_cat(df, col_names):\n",
        "    '''\n",
        "    takes dataframe and column names as inputs\n",
        "    print distinct values in those categorical\n",
        "    feature columns.\n",
        "    '''\n",
        "    for i in col_names:\n",
        "        print(df[i].value_counts())\n",
        "        print()"
      ]
    },
    {
      "cell_type": "code",
      "execution_count": null,
      "id": "347a8871",
      "metadata": {
        "colab": {
          "base_uri": "https://localhost:8080/"
        },
        "id": "347a8871",
        "outputId": "faafebdd-dbf6-42b4-b51e-e3957de41189"
      },
      "outputs": [
        {
          "output_type": "stream",
          "name": "stdout",
          "text": [
            "City Hotel      52074\n",
            "Resort Hotel    32771\n",
            "Name: hotel, dtype: int64\n",
            "\n",
            "BB           66066\n",
            "SC            9397\n",
            "HB            8624\n",
            "Undefined      420\n",
            "FB             338\n",
            "Name: meal, dtype: int64\n",
            "\n",
            "PRT    26605\n",
            "GBR    10180\n",
            "FRA     8648\n",
            "ESP     7119\n",
            "DEU     5223\n",
            "       ...  \n",
            "MMR        1\n",
            "CYM        1\n",
            "BFA        1\n",
            "NAM        1\n",
            "KHM        1\n",
            "Name: country, Length: 177, dtype: int64\n",
            "\n",
            "Online TA        51123\n",
            "Offline TA/TO    13258\n",
            "Direct           11528\n",
            "Groups            4143\n",
            "Corporate         3883\n",
            "Complementary      686\n",
            "Aviation           224\n",
            "Name: market_segment, dtype: int64\n",
            "\n",
            "TA/TO        67432\n",
            "Direct       12586\n",
            "Corporate     4649\n",
            "GDS            177\n",
            "Undefined        1\n",
            "Name: distribution_channel, dtype: int64\n",
            "\n",
            "A    54359\n",
            "D    17197\n",
            "E     5958\n",
            "F     2810\n",
            "G     2033\n",
            "B      976\n",
            "C      909\n",
            "H      596\n",
            "L        6\n",
            "P        1\n",
            "Name: reserved_room_type, dtype: int64\n",
            "\n",
            "No Deposit    83766\n",
            "Non Refund      990\n",
            "Refundable       89\n",
            "Name: deposit_type, dtype: int64\n",
            "\n",
            "Transient          70968\n",
            "Transient-Party    10241\n",
            "Contract            3105\n",
            "Group                531\n",
            "Name: customer_type, dtype: int64\n",
            "\n"
          ]
        }
      ],
      "source": [
        "distinct_cat(df, cat_features)"
      ]
    },
    {
      "cell_type": "markdown",
      "id": "66ee6d8f",
      "metadata": {
        "id": "66ee6d8f"
      },
      "source": [
        "**According to the data dictionary, both 'SC' and 'Undefined' values in meal column indicate no meal package, and thus we replace all 'Undefined' with 'SC'.**"
      ]
    },
    {
      "cell_type": "code",
      "execution_count": null,
      "id": "e263fdb6",
      "metadata": {
        "id": "e263fdb6"
      },
      "outputs": [],
      "source": [
        "# for meal column, 'SC' and 'Undefined' both indicate no meal package.\n",
        "# as indicated in the documentation of the dataset.\n",
        "df.loc[df['meal'] == 'Undefined', 'meal']  = 'SC'"
      ]
    },
    {
      "cell_type": "code",
      "execution_count": null,
      "id": "65aee6ea",
      "metadata": {
        "colab": {
          "base_uri": "https://localhost:8080/"
        },
        "id": "65aee6ea",
        "outputId": "b46aa26e-0c70-4280-ee86-6a8dc58d4b3d"
      },
      "outputs": [
        {
          "output_type": "execute_result",
          "data": {
            "text/plain": [
              "BB    66066\n",
              "SC     9817\n",
              "HB     8624\n",
              "FB      338\n",
              "Name: meal, dtype: int64"
            ]
          },
          "metadata": {},
          "execution_count": 21
        }
      ],
      "source": [
        "df['meal'].value_counts()"
      ]
    },
    {
      "cell_type": "markdown",
      "id": "cf3cc23a",
      "metadata": {
        "id": "cf3cc23a"
      },
      "source": [
        "**For distribution_channel column, we find that there is only 1 row that has 'Undefined' value. That is not desirable, because we do not want to have a One-Hot-Encoding feature that represents only 1 row of the whole dataset. To deal with this value, we check for this reservation's market_segment and find that it is a direct market section, and hence we assume that its distribution channel is likely to be direct distribution channel as well. We then assign 'Direct' value to the distribution channel column.**\n",
        "\n",
        "**It is noted that reserved_room_type columm also has this issue; however, the values of reserved_room_type are encoded. We cannot interpret those values, and thus we cannot modify values in this column.**"
      ]
    },
    {
      "cell_type": "code",
      "execution_count": null,
      "id": "9151f01e",
      "metadata": {
        "colab": {
          "base_uri": "https://localhost:8080/"
        },
        "id": "9151f01e",
        "outputId": "fda91a13-4bf5-4eff-a57e-0129905e1c5b"
      },
      "outputs": [
        {
          "output_type": "execute_result",
          "data": {
            "text/plain": [
              "14594    Direct\n",
              "Name: market_segment, dtype: object"
            ]
          },
          "metadata": {},
          "execution_count": 22
        }
      ],
      "source": [
        "# there is only one row that has 'Undefined' distribution channel\n",
        "df[df['distribution_channel'] == 'Undefined']['market_segment']"
      ]
    },
    {
      "cell_type": "code",
      "execution_count": null,
      "id": "01d9b16a",
      "metadata": {
        "id": "01d9b16a"
      },
      "outputs": [],
      "source": [
        "# it has direct market segment, so we assign 'Direct' as distribution_channel.\n",
        "# TODO:\n",
        "df.loc[df['distribution_channel'] == 'Undefined', 'distribution_channel'] = 'Direct'"
      ]
    },
    {
      "cell_type": "code",
      "execution_count": null,
      "id": "a031cde4",
      "metadata": {
        "colab": {
          "base_uri": "https://localhost:8080/"
        },
        "id": "a031cde4",
        "outputId": "bed0f86b-561d-4f70-9f50-b356c399c8bd"
      },
      "outputs": [
        {
          "output_type": "execute_result",
          "data": {
            "text/plain": [
              "TA/TO        67432\n",
              "Direct       12587\n",
              "Corporate     4649\n",
              "GDS            177\n",
              "Name: distribution_channel, dtype: int64"
            ]
          },
          "metadata": {},
          "execution_count": 24
        }
      ],
      "source": [
        "df['distribution_channel'].value_counts()"
      ]
    },
    {
      "cell_type": "markdown",
      "id": "2c32e7ba",
      "metadata": {
        "id": "2c32e7ba"
      },
      "source": [
        "**For country column, it has 177 dictinct values. This will create 177 new features when we do the One-Hot-Encoding. We notice that it can be a problem when we train model using that many features. However, this feature seems to have important information for classifying whether the reservation will be cancelled. As a result, we will do the experiments on this columns by training a model with varied the number of distinct values in this columns and use the training results to decide how many distinct values we should keep.**"
      ]
    },
    {
      "cell_type": "markdown",
      "id": "7072d847",
      "metadata": {
        "id": "7072d847"
      },
      "source": [
        "**After dealing with the categorical features, we look for the rows that are likely to be incorrect data. For example, some rows have the toal number of persons as zero. Some have the total number of stays as zero. We exclude those rows from our analysis.**"
      ]
    },
    {
      "cell_type": "code",
      "execution_count": null,
      "id": "dfc5fd06",
      "metadata": {
        "id": "dfc5fd06"
      },
      "outputs": [],
      "source": [
        "# check for rows that have number of persons or number of stays equal to zeroes, \n",
        "# as they're likely to be incorrect data\n",
        "df = df[(df['adults'] + df['children'] + df['babies']) != 0]\n",
        "df = df[(df['stays_in_weekend_nights'] + df['stays_in_week_nights']) != 0]"
      ]
    },
    {
      "cell_type": "code",
      "execution_count": null,
      "id": "0950ddd4",
      "metadata": {
        "colab": {
          "base_uri": "https://localhost:8080/"
        },
        "id": "0950ddd4",
        "outputId": "c5023be3-dffa-49c7-8f86-6ce267c6289e"
      },
      "outputs": [
        {
          "output_type": "stream",
          "name": "stdout",
          "text": [
            "<class 'pandas.core.frame.DataFrame'>\n",
            "Int64Index: 84110 entries, 2 to 119389\n",
            "Data columns (total 22 columns):\n",
            " #   Column                          Non-Null Count  Dtype  \n",
            "---  ------                          --------------  -----  \n",
            " 0   hotel                           84110 non-null  object \n",
            " 1   is_canceled                     84110 non-null  int64  \n",
            " 2   lead_time                       84110 non-null  int64  \n",
            " 3   stays_in_weekend_nights         84110 non-null  int64  \n",
            " 4   stays_in_week_nights            84110 non-null  int64  \n",
            " 5   adults                          84110 non-null  int64  \n",
            " 6   children                        84110 non-null  float64\n",
            " 7   babies                          84110 non-null  int64  \n",
            " 8   meal                            84110 non-null  object \n",
            " 9   country                         84110 non-null  object \n",
            " 10  market_segment                  84110 non-null  object \n",
            " 11  distribution_channel            84110 non-null  object \n",
            " 12  is_repeated_guest               84110 non-null  int64  \n",
            " 13  previous_cancellations          84110 non-null  int64  \n",
            " 14  previous_bookings_not_canceled  84110 non-null  int64  \n",
            " 15  reserved_room_type              84110 non-null  object \n",
            " 16  deposit_type                    84110 non-null  object \n",
            " 17  customer_type                   84110 non-null  object \n",
            " 18  adr                             84110 non-null  float64\n",
            " 19  required_car_parking_spaces     84110 non-null  int64  \n",
            " 20  total_of_special_requests       84110 non-null  int64  \n",
            " 21  arrival_days_diff               84110 non-null  int64  \n",
            "dtypes: float64(2), int64(12), object(8)\n",
            "memory usage: 14.8+ MB\n"
          ]
        }
      ],
      "source": [
        "df.info()"
      ]
    },
    {
      "cell_type": "markdown",
      "id": "929aae78",
      "metadata": {
        "id": "929aae78"
      },
      "source": [
        "**In this step, we check for the class imbalance. We find that we have 72% of data with class 0 (not cancelled) and only 28% of data with class 1 (cancelled). Our data is quite imbalanced. We need to account for this issue in the modeling part.**"
      ]
    },
    {
      "cell_type": "code",
      "execution_count": null,
      "id": "c027dd62",
      "metadata": {
        "id": "c027dd62",
        "colab": {
          "base_uri": "https://localhost:8080/",
          "height": 456
        },
        "outputId": "45db48ee-8f3b-406a-c495-f93b9f82cbcd"
      },
      "outputs": [
        {
          "output_type": "execute_result",
          "data": {
            "text/html": [
              "\n",
              "<div id=\"altair-viz-3a2c5e136d2248f19977543556743aa8\"></div>\n",
              "<script type=\"text/javascript\">\n",
              "  var VEGA_DEBUG = (typeof VEGA_DEBUG == \"undefined\") ? {} : VEGA_DEBUG;\n",
              "  (function(spec, embedOpt){\n",
              "    let outputDiv = document.currentScript.previousElementSibling;\n",
              "    if (outputDiv.id !== \"altair-viz-3a2c5e136d2248f19977543556743aa8\") {\n",
              "      outputDiv = document.getElementById(\"altair-viz-3a2c5e136d2248f19977543556743aa8\");\n",
              "    }\n",
              "    const paths = {\n",
              "      \"vega\": \"https://cdn.jsdelivr.net/npm//vega@5?noext\",\n",
              "      \"vega-lib\": \"https://cdn.jsdelivr.net/npm//vega-lib?noext\",\n",
              "      \"vega-lite\": \"https://cdn.jsdelivr.net/npm//vega-lite@4.17.0?noext\",\n",
              "      \"vega-embed\": \"https://cdn.jsdelivr.net/npm//vega-embed@6?noext\",\n",
              "    };\n",
              "\n",
              "    function maybeLoadScript(lib, version) {\n",
              "      var key = `${lib.replace(\"-\", \"\")}_version`;\n",
              "      return (VEGA_DEBUG[key] == version) ?\n",
              "        Promise.resolve(paths[lib]) :\n",
              "        new Promise(function(resolve, reject) {\n",
              "          var s = document.createElement('script');\n",
              "          document.getElementsByTagName(\"head\")[0].appendChild(s);\n",
              "          s.async = true;\n",
              "          s.onload = () => {\n",
              "            VEGA_DEBUG[key] = version;\n",
              "            return resolve(paths[lib]);\n",
              "          };\n",
              "          s.onerror = () => reject(`Error loading script: ${paths[lib]}`);\n",
              "          s.src = paths[lib];\n",
              "        });\n",
              "    }\n",
              "\n",
              "    function showError(err) {\n",
              "      outputDiv.innerHTML = `<div class=\"error\" style=\"color:red;\">${err}</div>`;\n",
              "      throw err;\n",
              "    }\n",
              "\n",
              "    function displayChart(vegaEmbed) {\n",
              "      vegaEmbed(outputDiv, spec, embedOpt)\n",
              "        .catch(err => showError(`Javascript Error: ${err.message}<br>This usually means there's a typo in your chart specification. See the javascript console for the full traceback.`));\n",
              "    }\n",
              "\n",
              "    if(typeof define === \"function\" && define.amd) {\n",
              "      requirejs.config({paths});\n",
              "      require([\"vega-embed\"], displayChart, err => showError(`Error loading script: ${err.message}`));\n",
              "    } else {\n",
              "      maybeLoadScript(\"vega\", \"5\")\n",
              "        .then(() => maybeLoadScript(\"vega-lite\", \"4.17.0\"))\n",
              "        .then(() => maybeLoadScript(\"vega-embed\", \"6\"))\n",
              "        .catch(showError)\n",
              "        .then(() => displayChart(vegaEmbed));\n",
              "    }\n",
              "  })({\"config\": {\"view\": {\"continuousWidth\": 400, \"continuousHeight\": 300}}, \"layer\": [{\"mark\": \"bar\", \"encoding\": {\"x\": {\"field\": \"is_canceled\", \"type\": \"nominal\"}, \"y\": {\"field\": \"count\", \"type\": \"quantitative\"}}, \"height\": 300, \"width\": 400}, {\"mark\": {\"type\": \"text\", \"baseline\": \"line-bottom\"}, \"encoding\": {\"text\": {\"field\": \"perc\", \"format\": \".2%\", \"type\": \"quantitative\"}, \"x\": {\"field\": \"is_canceled\", \"type\": \"nominal\"}, \"y\": {\"field\": \"count\", \"type\": \"quantitative\"}}, \"height\": 300, \"width\": 400}], \"data\": {\"name\": \"data-926de98f2b30d8533a4fc03a80151138\"}, \"$schema\": \"https://vega.github.io/schema/vega-lite/v4.17.0.json\", \"datasets\": {\"data-926de98f2b30d8533a4fc03a80151138\": [{\"is_canceled\": \"Class 0 (not cancelled)\", \"count\": 60593, \"perc\": 0.7204018547140649}, {\"is_canceled\": \"Class 1 (cancelled)\", \"count\": 23517, \"perc\": 0.2795981452859351}]}}, {\"mode\": \"vega-lite\"});\n",
              "</script>"
            ],
            "text/plain": [
              "alt.LayerChart(...)"
            ]
          },
          "metadata": {},
          "execution_count": 27
        }
      ],
      "source": [
        "# check for class imbalance # TODO: check\n",
        "\n",
        "df_plot_1 = df.groupby('is_canceled').agg('count').\\\n",
        "            reset_index()[['is_canceled','hotel']].\\\n",
        "            rename(columns={'hotel':'count'})\n",
        "df_plot_1.loc[df_plot_1.is_canceled == 0, 'is_canceled'] = 'Class 0 (not cancelled)'\n",
        "df_plot_1.loc[df_plot_1.is_canceled == 1, 'is_canceled'] = 'Class 1 (cancelled)'\n",
        "df_plot_1['perc'] = df_plot_1['count']/df_plot_1['count'].sum()\n",
        "\n",
        "chart = alt.Chart(df_plot_1).mark_bar().encode(\n",
        "    x='is_canceled:N',\n",
        "    y='count:Q'\n",
        ").properties(\n",
        "    width=400,\n",
        "    height=300\n",
        ")\n",
        "\n",
        "text = chart.mark_text(\n",
        "    baseline='line-bottom',\n",
        ").encode(\n",
        "    text=alt.Text('perc:Q', format='.2%')\n",
        ")\n",
        "\n",
        "chart + text"
      ]
    },
    {
      "cell_type": "markdown",
      "id": "6b9f7ae8",
      "metadata": {
        "id": "6b9f7ae8"
      },
      "source": [
        "**We also check for distribution of the continuous features and find that we have different scales of values in each columns. Hence, we need to deal with this in the modeling part.**"
      ]
    },
    {
      "cell_type": "code",
      "execution_count": null,
      "id": "c2284e90",
      "metadata": {
        "colab": {
          "base_uri": "https://localhost:8080/",
          "height": 1000
        },
        "id": "c2284e90",
        "outputId": "76347ddf-d511-4c86-d4ec-da7b5dd95b47"
      },
      "outputs": [
        {
          "output_type": "display_data",
          "data": {
            "text/plain": [
              "<Figure size 1080x1080 with 12 Axes>"
            ],
            "image/png": "[encoded data removed]"
          },
          "metadata": {
            "needs_background": "light"
          }
        }
      ],
      "source": [
        "# check data distribution for continuous variables\n",
        "\n",
        "fig, axes = plt.subplots(nrows=4, ncols=3, figsize=(15, 15))\n",
        "axes = axes.ravel()\n",
        " \n",
        "for col, ax in zip(continuous_features, axes):\n",
        "    data = df[[col]]  # select the data\n",
        "    sns.kdeplot(data=data, shade=True, ax=ax)\n",
        "    ax.set(title=col, xlabel=None)\n",
        "    \n",
        "fig.tight_layout()\n",
        "plt.show()"
      ]
    },
    {
      "cell_type": "markdown",
      "id": "0a6875b8",
      "metadata": {
        "id": "0a6875b8"
      },
      "source": [
        "**Multicorrelation between features can be an issue in terms of the model performance and model interpretation. Therefore, we check for the multicorrelation using variance inflation factor (VIF). The abmormally high value of the absolute value of VIF of a feature indicates multicorrelation of that feature with some other features. From the results, we do not find any features that have high VIF value, and thus there is not multicorrelation and we do not need to drop any features.**"
      ]
    },
    {
      "cell_type": "code",
      "execution_count": null,
      "id": "cc163a43",
      "metadata": {
        "colab": {
          "base_uri": "https://localhost:8080/"
        },
        "id": "cc163a43",
        "outputId": "5767f531-808f-4b7b-c5a5-4144e8ebdef3"
      },
      "outputs": [
        {
          "output_type": "execute_result",
          "data": {
            "text/plain": [
              "[('lead_time', 2.168924340134457),\n",
              " ('stays_in_weekend_nights', 2.844784217328904),\n",
              " ('stays_in_week_nights', 3.951255614939119),\n",
              " ('adults', 6.937167795290816),\n",
              " ('children', 1.234779708339504),\n",
              " ('babies', 1.0197028894270002),\n",
              " ('previous_cancellations', 1.1973814229453232),\n",
              " ('previous_bookings_not_canceled', 1.2076379927696554),\n",
              " ('adr', 5.576779762612658),\n",
              " ('required_car_parking_spaces', 1.1031955833303788),\n",
              " ('total_of_special_requests', 1.7834346171402922),\n",
              " ('arrival_days_diff', 3.981192762007278)]"
            ]
          },
          "metadata": {},
          "execution_count": 29
        }
      ],
      "source": [
        "# check for multicorrelation between features using VIF\n",
        "from statsmodels.stats.outliers_influence import variance_inflation_factor\n",
        "vif = [(continuous_features[i],variance_inflation_factor(df[continuous_features].values, i)) \n",
        "       for i in range(len(continuous_features))]\n",
        "vif"
      ]
    },
    {
      "cell_type": "markdown",
      "id": "c7c670f2",
      "metadata": {
        "id": "c7c670f2"
      },
      "source": [
        "**In the last step of data preprocessing, we check for the outlier values in each columns. We use the interquartile range (IQR) to detect the outliers. The values that are less than or equal to Q1 - 1.5IQR and those that are higher than or equal to Q3 + 1.5IQR will be considered outliers. We assign null values to those outliers, so that we can check for number of outliers by summing up all null values in each columns. Using this method, we find that there is no outlier in our dataset.** "
      ]
    },
    {
      "cell_type": "code",
      "execution_count": null,
      "id": "Lte3K5LS1-uO",
      "metadata": {
        "id": "Lte3K5LS1-uO"
      },
      "outputs": [],
      "source": [
        "# check for outliers\n",
        "def detect_outlier(col):\n",
        "    '''\n",
        "    takes a pandas series as an input \n",
        "    finds the outliers in that columns\n",
        "    for the outlier, it will assign np.nan\n",
        "    return a numpy array with outliers \n",
        "    replaced with np.nan\n",
        "    '''\n",
        "    data = col.values\n",
        "    # calculate the q25, q75, and IQR\n",
        "    q25, q75 = np.percentile(data, 25), np.percentile(data, 75)\n",
        "    iqr = q75 - q25\n",
        "    \n",
        "    # calculate the outlier cutoff\n",
        "    cut_off = iqr * 1.5\n",
        "    lower, upper = q25 - cut_off, q75 + cut_off\n",
        "\n",
        "    # identify outliers\n",
        "    outliers_removed = [x if x >= lower or x <= upper else np.nan for x in data]\n",
        "    return outliers_removed"
      ]
    },
    {
      "cell_type": "code",
      "execution_count": null,
      "id": "yzmEt_JF2Amd",
      "metadata": {
        "id": "yzmEt_JF2Amd"
      },
      "outputs": [],
      "source": [
        "df[continuous_features] = df[continuous_features].apply(lambda s : detect_outlier(s))"
      ]
    },
    {
      "cell_type": "code",
      "execution_count": null,
      "id": "9w9dspBV2C8b",
      "metadata": {
        "colab": {
          "base_uri": "https://localhost:8080/"
        },
        "id": "9w9dspBV2C8b",
        "outputId": "62df0a11-671b-4acd-98a0-b561a62a7040"
      },
      "outputs": [
        {
          "output_type": "execute_result",
          "data": {
            "text/plain": [
              "hotel                             0\n",
              "is_canceled                       0\n",
              "lead_time                         0\n",
              "stays_in_weekend_nights           0\n",
              "stays_in_week_nights              0\n",
              "adults                            0\n",
              "children                          0\n",
              "babies                            0\n",
              "meal                              0\n",
              "country                           0\n",
              "market_segment                    0\n",
              "distribution_channel              0\n",
              "is_repeated_guest                 0\n",
              "previous_cancellations            0\n",
              "previous_bookings_not_canceled    0\n",
              "reserved_room_type                0\n",
              "deposit_type                      0\n",
              "customer_type                     0\n",
              "adr                               0\n",
              "required_car_parking_spaces       0\n",
              "total_of_special_requests         0\n",
              "arrival_days_diff                 0\n",
              "dtype: int64"
            ]
          },
          "metadata": {},
          "execution_count": 32
        }
      ],
      "source": [
        "df.isnull().sum()"
      ]
    },
    {
      "cell_type": "markdown",
      "id": "db7f72c7",
      "metadata": {
        "id": "db7f72c7"
      },
      "source": [
        "## **2. Modeling** - Ablations and model selection"
      ]
    },
    {
      "cell_type": "markdown",
      "source": [
        "**In this section, we will train 6 classification models, including Logistic Regression, K Nearest Neighbor, Decision Tree, Random Forest, XGBoost, and Artificial Neural Network. The score that we use to select the best model is F2-Score. We will describe more about the reason that we choose this score in this section below.**"
      ],
      "metadata": {
        "id": "fiqyu4SMtt0a"
      },
      "id": "fiqyu4SMtt0a"
    },
    {
      "cell_type": "code",
      "execution_count": null,
      "id": "6c473b1a",
      "metadata": {
        "id": "6c473b1a"
      },
      "outputs": [],
      "source": [
        "from sklearn.pipeline import Pipeline\n",
        "from sklearn.compose import ColumnTransformer\n",
        "from sklearn.preprocessing import (\n",
        "    OneHotEncoder, MinMaxScaler, StandardScaler\n",
        ")\n",
        "\n",
        "from sklearn.model_selection import (\n",
        "    train_test_split, RepeatedStratifiedKFold, GridSearchCV\n",
        ")\n",
        "\n",
        "from sklearn.metrics import (\n",
        "    precision_recall_curve, f1_score, fbeta_score, \n",
        "    make_scorer, accuracy_score, confusion_matrix, classification_report\n",
        ")\n",
        "\n",
        "import warnings\n",
        "warnings.filterwarnings(\"ignore\")"
      ]
    },
    {
      "cell_type": "markdown",
      "source": [
        "**We divide the features into 2 types - numerical feature and categorical feature - so that we can create approprate preprocessing pipeline. We will perform One-Hot-Encoding on the categorical data and scale the numerical features using StandardScaler.**"
      ],
      "metadata": {
        "id": "jaOXC0aeubaZ"
      },
      "id": "jaOXC0aeubaZ"
    },
    {
      "cell_type": "code",
      "execution_count": null,
      "id": "7412fbad",
      "metadata": {
        "id": "7412fbad"
      },
      "outputs": [],
      "source": [
        "# separate the columns name between numerical columns and categorical columns\n",
        "cat_columns = cat_features\n",
        "num_columns = continuous_features + binary_features"
      ]
    },
    {
      "cell_type": "code",
      "execution_count": null,
      "id": "61cb5346",
      "metadata": {
        "id": "61cb5346"
      },
      "outputs": [],
      "source": [
        "# define ColumnTransformer to preprocess the data\n",
        "ohe = OneHotEncoder(handle_unknown=\"ignore\", drop='first')\n",
        "scaler = StandardScaler()\n",
        "\n",
        "preprocessor = ColumnTransformer(transformers=[\n",
        "    (\"continuous\", scaler, continuous_features),\n",
        "    (\"categorical\", ohe, cat_columns)]\n",
        ")"
      ]
    },
    {
      "cell_type": "markdown",
      "id": "ed731b8a",
      "metadata": {
        "id": "ed731b8a"
      },
      "source": [
        "**As we discussed above, we have 177 distinct values in country columns. Ideally we would want to club less frequent categories into an 'other' category to save our selfs from creating too many features while OHEing this variable for training. But we want to test by retaining how much of this information would actually aid in our classification task.**\n",
        "\n",
        "**Thus, in this section we create 4 different dataset with varied number of distinct values in country column:**<br>\n",
        "\n",
        "**1.keep all distinct values**<br>\n",
        "**2.keep top 100 countries that have the largest number of rows and assgined 'other' value to the rest**<br>\n",
        "**3.keep top 50 countries that have the largest number of rows and assgined 'other' value to the rest**<br>\n",
        "**4.keep top 10 countries that have the largest number of rows and assgined 'other' value to the rest**<br>\n",
        "\n",
        "**We then train a Logistic Regression model on all these dataset to see if different number of distinct values will significantly affect the model performance.** "
      ]
    },
    {
      "cell_type": "code",
      "execution_count": null,
      "id": "4f1903fa",
      "metadata": {
        "id": "4f1903fa"
      },
      "outputs": [],
      "source": [
        "# bin country column with different number of distinct values we want to keep\n",
        "\n",
        "def bin_country(country, top_countries):\n",
        "    '''\n",
        "    takes string of country as an input and list of\n",
        "    top countries that the user want to keep\n",
        "    checks if it is one of top n countries that customers come from\n",
        "    if it is, return the original country, otherwise 'other'. \n",
        "    '''\n",
        "    if country not in top_countries:\n",
        "        return 'other'\n",
        "    else:\n",
        "        return country"
      ]
    },
    {
      "cell_type": "code",
      "execution_count": null,
      "id": "c8a40065",
      "metadata": {
        "id": "c8a40065"
      },
      "outputs": [],
      "source": [
        "# keep all distinct values\n",
        "df1 = df.copy()\n",
        "\n",
        "# keep top 100 countries that have the largest number of rows and assgined \n",
        "# 'other' value to the rest\n",
        "top_100_countries = df['country'].value_counts()[:100].index.tolist()\n",
        "df2 = df.copy()\n",
        "df2['country'] = df2['country'].apply(lambda x : bin_country(x,top_100_countries))\n",
        "\n",
        "# keep top 50 countries that have the largest number of rows and assgined \n",
        "# 'other' value to the rest\n",
        "top_50_countries = df['country'].value_counts()[:50].index.tolist()\n",
        "df3 = df.copy()\n",
        "df3['country'] = df3['country'].apply(lambda x : bin_country(x,top_50_countries))\n",
        "\n",
        "# keep top 10 countries that have the largest number of rows and assgined \n",
        "# 'other' value to the rest\n",
        "top_10_countries = df['country'].value_counts()[:10].index.tolist()\n",
        "df4 = df.copy()\n",
        "df4['country'] = df4['country'].apply(lambda x : bin_country(x,top_10_countries))"
      ]
    },
    {
      "cell_type": "markdown",
      "id": "f70a2a46",
      "metadata": {
        "id": "f70a2a46"
      },
      "source": [
        "**We create four train and test datasets, using the 0.2 test set size to train set size ratio.**"
      ]
    },
    {
      "cell_type": "code",
      "execution_count": null,
      "id": "61ad9b48",
      "metadata": {
        "id": "61ad9b48"
      },
      "outputs": [],
      "source": [
        "# get train and test datasets for each dataset\n",
        "X1 = df1.drop(columns=['is_canceled']).copy()\n",
        "y1 = df1.is_canceled.copy()\n",
        "X_train1, X_test1, y_train1, y_test1 = train_test_split(X1, y1, test_size=0.2, random_state=42)\n",
        "\n",
        "X2 = df2.drop(columns=['is_canceled']).copy()\n",
        "y2 = df2.is_canceled.copy()\n",
        "X_train2, X_test2, y_train2, y_test2 = train_test_split(X2, y2, test_size=0.2, random_state=42)\n",
        "\n",
        "X3 = df3.drop(columns=['is_canceled']).copy()\n",
        "y3 = df3.is_canceled.copy()\n",
        "X_train3, X_test3, y_train3, y_test3 = train_test_split(X3, y3, test_size=0.2, random_state=42)\n",
        "\n",
        "X4 = df4.drop(columns=['is_canceled']).copy()\n",
        "y4 = df4.is_canceled.copy()\n",
        "X_train4, X_test4, y_train4, y_test4 = train_test_split(X4, y4, test_size=0.2, random_state=42)"
      ]
    },
    {
      "cell_type": "markdown",
      "id": "4pTfUwayC1no",
      "metadata": {
        "id": "4pTfUwayC1no"
      },
      "source": [
        "**The performance matrix we choose is the F2-score, which is the combination of precision and recall. The reason is that recall will tell us considering all the customers that will cancel their reservations, how many that we are able to identify. This is very important in this case, since we do not want to miss any customers that we have opportunities to reach out and persuade them to not cancel their reservations. At the same time, precision tells us considering the ones that we identify as being likely to make cancellations, how many actually cancel. This is also crucial, since reaching out to customers and giving them promotions cost the hotels. Hence, we want to be as precise as possible in targeting those customers. Precision ensures that we do not select too many customers for promotions in order to get all those customers, but we precisely choose them.**\n",
        "\n",
        "**Considering whether how much we should weight recall and precision, we come up with following question:**\n",
        "\n",
        "**Question** \\\n",
        "**What is more expensive: offers that we give to our customers who were not about to cancel anyway or losing customers because we could not identify them as people who were about to cancel.**\n",
        "\n",
        "\n",
        "**Exploration**\\\n",
        "**Assumptions:**<br>\n",
        "- **Revenue from each booking: \\$70,**\n",
        "- **Average Profit: 16% average (\\$11.2)**\n",
        "\n",
        "**We incentivize customer to not cancel by:**\n",
        "- **Discounts - 5% discount (\\$3.5) (weighted 60%)**\n",
        "- **Free parking - (7%) $5 (weighted 30%)**\n",
        "- **Free upgrade (depends upon availability) - Loss \\$4 - if someone else would have tried booking (weighted 10%)**\n",
        "\n",
        "**The weights that we use represent how likely we will use that method to incentivize customer to not cancel.**\n",
        "\n",
        "**Net discount cost: $5.6 (weighted average) / \\$70 - That is 8% of total revenue at an average.**\n",
        "\n",
        "**Given the above, we should weight recall higher because the profit that we lose from persuading the customer to not cancel (8% of total revenue at an average) is less than the profit that we lose from losing the customer (16% of total revenue at an average).**\n",
        "\n",
        "**Since recall is considered/beta times as important as precision in F beta score, F2 score will be our model selection criteria.**\n",
        "\t\n",
        "*Reference for the assumptions above: https://csimarket.com/Industry/industry_Profitability_Ratios.php?ind=906*"
      ]
    },
    {
      "cell_type": "code",
      "execution_count": null,
      "id": "vbdjXYHC3aza",
      "metadata": {
        "id": "vbdjXYHC3aza"
      },
      "outputs": [],
      "source": [
        "# creating the scorer that we will be judging our models on:\n",
        "f2_scorer = make_scorer(fbeta_score, beta=2)"
      ]
    },
    {
      "cell_type": "markdown",
      "id": "2d6414b2",
      "metadata": {
        "id": "2d6414b2"
      },
      "source": [
        "### **Logistic Regression** and categorical consolidation ablation"
      ]
    },
    {
      "cell_type": "markdown",
      "id": "ed8ae77d",
      "metadata": {
        "id": "ed8ae77d"
      },
      "source": [
        "**For Logistic Regression, we train the models for four different datasets that we create above to decide the number of distinct values we should use for country column.**"
      ]
    },
    {
      "cell_type": "code",
      "execution_count": null,
      "id": "74321581",
      "metadata": {
        "colab": {
          "base_uri": "https://localhost:8080/"
        },
        "id": "74321581",
        "outputId": "8901e35b-b5f1-49d3-90fd-9315c129df45",
        "scrolled": true
      },
      "outputs": [
        {
          "output_type": "execute_result",
          "data": {
            "text/plain": [
              "GridSearchCV(cv=5,\n",
              "             estimator=Pipeline(steps=[('data prep',\n",
              "                                        ColumnTransformer(transformers=[('continuous',\n",
              "                                                                         StandardScaler(),\n",
              "                                                                         ['lead_time',\n",
              "                                                                          'stays_in_weekend_nights',\n",
              "                                                                          'stays_in_week_nights',\n",
              "                                                                          'adults',\n",
              "                                                                          'children',\n",
              "                                                                          'babies',\n",
              "                                                                          'previous_cancellations',\n",
              "                                                                          'previous_bookings_not_canceled',\n",
              "                                                                          'adr',\n",
              "                                                                          'required_car_parking_spaces',\n",
              "                                                                          'total_of_special_requests',\n",
              "                                                                          'arrival_days_diff']),\n",
              "                                                                        ('categorical',\n",
              "                                                                         OneHotEncoder(drop='first',\n",
              "                                                                                       handle_unknown='ignore'),\n",
              "                                                                         ['hotel',\n",
              "                                                                          'meal',\n",
              "                                                                          'country',\n",
              "                                                                          'market_segment',\n",
              "                                                                          'distribution_channel',\n",
              "                                                                          'reserved_room_type',\n",
              "                                                                          'deposit_type',\n",
              "                                                                          'customer_type'])])),\n",
              "                                       ('model', LogisticRegression())]),\n",
              "             param_grid={'model__C': array([ 0.1,  1.2,  2.3,  3.4,  4.5,  5.6,  6.7,  7.8,  8.9, 10. ])},\n",
              "             scoring=make_scorer(fbeta_score, beta=2))"
            ]
          },
          "metadata": {},
          "execution_count": 44
        }
      ],
      "source": [
        "from sklearn.linear_model import LogisticRegression\n",
        "\n",
        "# use pipeline to train Logistic Regression model on dataset 1\n",
        "pipe = Pipeline(steps = \n",
        "                [('data prep', preprocessor),\n",
        "                 ('model', LogisticRegression())])\n",
        "\n",
        "param_grid = {\n",
        "    'model__C': np.linspace(0.1, 10.0, num = 10)\n",
        "}\n",
        "\n",
        "search = GridSearchCV(pipe, \n",
        "                        param_grid, \n",
        "                        scoring=f2_scorer, \n",
        "                        cv=5)\n",
        "\n",
        "search.fit(X_train1, y_train1)"
      ]
    },
    {
      "cell_type": "code",
      "execution_count": null,
      "id": "c788bcd9",
      "metadata": {
        "colab": {
          "base_uri": "https://localhost:8080/"
        },
        "id": "c788bcd9",
        "outputId": "dbc8f4da-b600-4f3f-f8a0-3df81a015339",
        "scrolled": false
      },
      "outputs": [
        {
          "output_type": "stream",
          "name": "stdout",
          "text": [
            "Best LR Estimator w/ 177 countries unclubed\n",
            "\n",
            " - Train f2: 0.4894405947041466\n",
            "\n",
            " - Train Confusion Matrix: \n",
            "[[44370  4118]\n",
            " [10150  8650]]\n",
            "\n",
            " - Train Classification Report:  \n",
            "              precision    recall  f1-score   support\n",
            "\n",
            "           0       0.81      0.92      0.86     48488\n",
            "           1       0.68      0.46      0.55     18800\n",
            "\n",
            "    accuracy                           0.79     67288\n",
            "   macro avg       0.75      0.69      0.70     67288\n",
            "weighted avg       0.78      0.79      0.77     67288\n",
            "\n"
          ]
        }
      ],
      "source": [
        "final_model_lr1 = search.best_estimator_\n",
        "\n",
        "y_train_pred1 = final_model_lr1.predict(X_train1)\n",
        "\n",
        "print(  f\"Best LR Estimator w/ 177 countries unclubed\\n\\n\",\n",
        "        f\"- Train f2: {search.best_score_}\\n\\n\",\n",
        "        f\"- Train Confusion Matrix: \\n{confusion_matrix(y_train1, y_train_pred1)}\\n\\n\",\n",
        "        f\"- Train Classification Report:  \\n{classification_report(y_train1, y_train_pred1)}\",\n",
        "    )"
      ]
    },
    {
      "cell_type": "markdown",
      "source": [
        "**It is noted that the confusion matrix that we show are calculated based on using the model to make prediction on the training dataset. This is not created from the cross-validation. Thus, we use it to only check if the model is likely to overfit the training data. However, we will not use this as a criteria for selecting the best model. We use only the F2-Score from the cross-validation as model selection criteria.**"
      ],
      "metadata": {
        "id": "fMdv5w9u03Qg"
      },
      "id": "fMdv5w9u03Qg"
    },
    {
      "cell_type": "code",
      "execution_count": null,
      "id": "b4ec1350",
      "metadata": {
        "colab": {
          "base_uri": "https://localhost:8080/"
        },
        "id": "b4ec1350",
        "outputId": "4a5663e5-bb94-45ed-d325-160800dd4e7d",
        "scrolled": true
      },
      "outputs": [
        {
          "output_type": "execute_result",
          "data": {
            "text/plain": [
              "GridSearchCV(cv=5,\n",
              "             estimator=Pipeline(steps=[('data prep',\n",
              "                                        ColumnTransformer(transformers=[('continuous',\n",
              "                                                                         StandardScaler(),\n",
              "                                                                         ['lead_time',\n",
              "                                                                          'stays_in_weekend_nights',\n",
              "                                                                          'stays_in_week_nights',\n",
              "                                                                          'adults',\n",
              "                                                                          'children',\n",
              "                                                                          'babies',\n",
              "                                                                          'previous_cancellations',\n",
              "                                                                          'previous_bookings_not_canceled',\n",
              "                                                                          'adr',\n",
              "                                                                          'required_car_parking_spaces',\n",
              "                                                                          'total_of_special_requests',\n",
              "                                                                          'arrival_days_diff']),\n",
              "                                                                        ('categorical',\n",
              "                                                                         OneHotEncoder(drop='first',\n",
              "                                                                                       handle_unknown='ignore'),\n",
              "                                                                         ['hotel',\n",
              "                                                                          'meal',\n",
              "                                                                          'country',\n",
              "                                                                          'market_segment',\n",
              "                                                                          'distribution_channel',\n",
              "                                                                          'reserved_room_type',\n",
              "                                                                          'deposit_type',\n",
              "                                                                          'customer_type'])])),\n",
              "                                       ('model', LogisticRegression())]),\n",
              "             param_grid={'model__C': array([ 0.1,  1.2,  2.3,  3.4,  4.5,  5.6,  6.7,  7.8,  8.9, 10. ])},\n",
              "             scoring=make_scorer(fbeta_score, beta=2))"
            ]
          },
          "metadata": {},
          "execution_count": 46
        }
      ],
      "source": [
        "# use pipeline to train Logistic Regression model on dataset 2\n",
        "pipe = Pipeline(steps = \n",
        "                [('data prep', preprocessor),\n",
        "                 ('model', LogisticRegression())])\n",
        "\n",
        "param_grid = {\n",
        "    'model__C': np.linspace(0.1, 10.0, num = 10)\n",
        "}\n",
        "\n",
        "search = GridSearchCV(pipe, \n",
        "                        param_grid, \n",
        "                        scoring=f2_scorer, \n",
        "                        cv=5)\n",
        "\n",
        "search.fit(X_train2, y_train2)"
      ]
    },
    {
      "cell_type": "code",
      "execution_count": null,
      "id": "7f7b8ff9",
      "metadata": {
        "colab": {
          "base_uri": "https://localhost:8080/"
        },
        "id": "7f7b8ff9",
        "outputId": "4a994031-a357-4ae5-ce7a-f94edd092934",
        "scrolled": false
      },
      "outputs": [
        {
          "output_type": "stream",
          "name": "stdout",
          "text": [
            "Best LR Estimator w/ 100 countries unclubed\n",
            "\n",
            " - Train f2: 0.48935191697597746\n",
            "\n",
            " - Train Confusion Matrix: \n",
            "[[44407  4081]\n",
            " [10196  8604]]\n",
            "\n",
            " - Train Classification Report:  \n",
            "              precision    recall  f1-score   support\n",
            "\n",
            "           0       0.81      0.92      0.86     48488\n",
            "           1       0.68      0.46      0.55     18800\n",
            "\n",
            "    accuracy                           0.79     67288\n",
            "   macro avg       0.75      0.69      0.70     67288\n",
            "weighted avg       0.78      0.79      0.77     67288\n",
            "\n"
          ]
        }
      ],
      "source": [
        "final_model_lr2 = search.best_estimator_\n",
        "\n",
        "y_train_pred2 = final_model_lr2.predict(X_train2)\n",
        "\n",
        "print(  f\"Best LR Estimator w/ 100 countries unclubed\\n\\n\",\n",
        "        f\"- Train f2: {search.best_score_}\\n\\n\",\n",
        "        f\"- Train Confusion Matrix: \\n{confusion_matrix(y_train2, y_train_pred2)}\\n\\n\",\n",
        "        f\"- Train Classification Report:  \\n{classification_report(y_train2, y_train_pred2)}\",\n",
        "    )"
      ]
    },
    {
      "cell_type": "code",
      "execution_count": null,
      "id": "eb2a4215",
      "metadata": {
        "colab": {
          "base_uri": "https://localhost:8080/"
        },
        "id": "eb2a4215",
        "outputId": "6d653f4a-69d1-408f-b124-1b916b7e079a",
        "scrolled": true
      },
      "outputs": [
        {
          "output_type": "execute_result",
          "data": {
            "text/plain": [
              "GridSearchCV(cv=5,\n",
              "             estimator=Pipeline(steps=[('data prep',\n",
              "                                        ColumnTransformer(transformers=[('continuous',\n",
              "                                                                         StandardScaler(),\n",
              "                                                                         ['lead_time',\n",
              "                                                                          'stays_in_weekend_nights',\n",
              "                                                                          'stays_in_week_nights',\n",
              "                                                                          'adults',\n",
              "                                                                          'children',\n",
              "                                                                          'babies',\n",
              "                                                                          'previous_cancellations',\n",
              "                                                                          'previous_bookings_not_canceled',\n",
              "                                                                          'adr',\n",
              "                                                                          'required_car_parking_spaces',\n",
              "                                                                          'total_of_special_requests',\n",
              "                                                                          'arrival_days_diff']),\n",
              "                                                                        ('categorical',\n",
              "                                                                         OneHotEncoder(drop='first',\n",
              "                                                                                       handle_unknown='ignore'),\n",
              "                                                                         ['hotel',\n",
              "                                                                          'meal',\n",
              "                                                                          'country',\n",
              "                                                                          'market_segment',\n",
              "                                                                          'distribution_channel',\n",
              "                                                                          'reserved_room_type',\n",
              "                                                                          'deposit_type',\n",
              "                                                                          'customer_type'])])),\n",
              "                                       ('model', LogisticRegression())]),\n",
              "             param_grid={'model__C': array([ 0.1,  1.2,  2.3,  3.4,  4.5,  5.6,  6.7,  7.8,  8.9, 10. ])},\n",
              "             scoring=make_scorer(fbeta_score, beta=2))"
            ]
          },
          "metadata": {},
          "execution_count": 48
        }
      ],
      "source": [
        "# use pipeline to train Logistic Regression model on dataset 3\n",
        "pipe = Pipeline(steps = \n",
        "                [('data prep', preprocessor),\n",
        "                 ('model', LogisticRegression())])\n",
        "\n",
        "param_grid = {\n",
        "    'model__C': np.linspace(0.1, 10.0, num = 10)\n",
        "}\n",
        "\n",
        "search = GridSearchCV(pipe, \n",
        "                        param_grid, \n",
        "                        scoring=f2_scorer, \n",
        "                        cv=5)\n",
        "\n",
        "search.fit(X_train3, y_train3)"
      ]
    },
    {
      "cell_type": "code",
      "execution_count": null,
      "id": "34f66fd6",
      "metadata": {
        "colab": {
          "base_uri": "https://localhost:8080/"
        },
        "id": "34f66fd6",
        "outputId": "8a838493-4fb7-423e-8d0a-d0a828de4948",
        "scrolled": false
      },
      "outputs": [
        {
          "output_type": "stream",
          "name": "stdout",
          "text": [
            "Best LR Estimator w\\ top 50 countries unclubbed\n",
            "\n",
            " - Train f2: 0.4880048894383517\n",
            "\n",
            " - Train Confusion Matrix: \n",
            "[[44328  4160]\n",
            " [10200  8600]]\n",
            "\n",
            " - Train Classification Report:  \n",
            "              precision    recall  f1-score   support\n",
            "\n",
            "           0       0.81      0.91      0.86     48488\n",
            "           1       0.67      0.46      0.54     18800\n",
            "\n",
            "    accuracy                           0.79     67288\n",
            "   macro avg       0.74      0.69      0.70     67288\n",
            "weighted avg       0.77      0.79      0.77     67288\n",
            "\n"
          ]
        }
      ],
      "source": [
        "final_model_lr3 = search.best_estimator_\n",
        "\n",
        "y_train_pred3 = final_model_lr3.predict(X_train3)\n",
        "\n",
        "print(  f\"Best LR Estimator w\\ top 50 countries unclubbed\\n\\n\",\n",
        "        f\"- Train f2: {search.best_score_}\\n\\n\",\n",
        "        f\"- Train Confusion Matrix: \\n{confusion_matrix(y_train3, y_train_pred3)}\\n\\n\",\n",
        "        f\"- Train Classification Report:  \\n{classification_report(y_train3, y_train_pred3)}\",\n",
        "    )"
      ]
    },
    {
      "cell_type": "code",
      "execution_count": null,
      "id": "e55a4de6",
      "metadata": {
        "colab": {
          "base_uri": "https://localhost:8080/"
        },
        "id": "e55a4de6",
        "outputId": "cf345665-ca45-49e7-b5a9-887d5e3dc534",
        "scrolled": true
      },
      "outputs": [
        {
          "output_type": "execute_result",
          "data": {
            "text/plain": [
              "GridSearchCV(cv=5,\n",
              "             estimator=Pipeline(steps=[('data prep',\n",
              "                                        ColumnTransformer(transformers=[('continuous',\n",
              "                                                                         StandardScaler(),\n",
              "                                                                         ['lead_time',\n",
              "                                                                          'stays_in_weekend_nights',\n",
              "                                                                          'stays_in_week_nights',\n",
              "                                                                          'adults',\n",
              "                                                                          'children',\n",
              "                                                                          'babies',\n",
              "                                                                          'previous_cancellations',\n",
              "                                                                          'previous_bookings_not_canceled',\n",
              "                                                                          'adr',\n",
              "                                                                          'required_car_parking_spaces',\n",
              "                                                                          'total_of_special_requests',\n",
              "                                                                          'arrival_days_diff']),\n",
              "                                                                        ('categorical',\n",
              "                                                                         OneHotEncoder(drop='first',\n",
              "                                                                                       handle_unknown='ignore'),\n",
              "                                                                         ['hotel',\n",
              "                                                                          'meal',\n",
              "                                                                          'country',\n",
              "                                                                          'market_segment',\n",
              "                                                                          'distribution_channel',\n",
              "                                                                          'reserved_room_type',\n",
              "                                                                          'deposit_type',\n",
              "                                                                          'customer_type'])])),\n",
              "                                       ('model', LogisticRegression())]),\n",
              "             param_grid={'model__C': array([ 0.1,  1.2,  2.3,  3.4,  4.5,  5.6,  6.7,  7.8,  8.9, 10. ])},\n",
              "             scoring=make_scorer(fbeta_score, beta=2))"
            ]
          },
          "metadata": {},
          "execution_count": 50
        }
      ],
      "source": [
        "# use pipeline to train Logistic Regression model on dataset 4\n",
        "pipe = Pipeline(steps = \n",
        "                [('data prep', preprocessor),\n",
        "                 ('model', LogisticRegression())])\n",
        "\n",
        "param_grid = {\n",
        "    'model__C': np.linspace(0.1, 10.0, num = 10)\n",
        "}\n",
        "\n",
        "search = GridSearchCV(pipe, \n",
        "                        param_grid, \n",
        "                        scoring=f2_scorer, \n",
        "                        cv=5)\n",
        "\n",
        "search.fit(X_train4, y_train4)"
      ]
    },
    {
      "cell_type": "code",
      "execution_count": null,
      "id": "84728dd0",
      "metadata": {
        "colab": {
          "base_uri": "https://localhost:8080/"
        },
        "id": "84728dd0",
        "outputId": "5514b01e-edb8-43e0-cf15-4c4ce08c40a8",
        "scrolled": false
      },
      "outputs": [
        {
          "output_type": "stream",
          "name": "stdout",
          "text": [
            "Best LR Estimator w\\ top 10 countries unclubed\n",
            "\n",
            " - Train f2: 0.47050201801030295\n",
            "\n",
            " - Train Confusion Matrix: \n",
            "[[44356  4132]\n",
            " [10578  8222]]\n",
            "\n",
            " - Train Classification Report:  \n",
            "              precision    recall  f1-score   support\n",
            "\n",
            "           0       0.81      0.91      0.86     48488\n",
            "           1       0.67      0.44      0.53     18800\n",
            "\n",
            "    accuracy                           0.78     67288\n",
            "   macro avg       0.74      0.68      0.69     67288\n",
            "weighted avg       0.77      0.78      0.77     67288\n",
            "\n"
          ]
        }
      ],
      "source": [
        "final_model_lr4 = search.best_estimator_\n",
        "\n",
        "y_train_pred4 = final_model_lr4.predict(X_train4)\n",
        "\n",
        "print(  f\"Best LR Estimator w\\ top 10 countries unclubed\\n\\n\",\n",
        "        f\"- Train f2: {search.best_score_}\\n\\n\",\n",
        "        f\"- Train Confusion Matrix: \\n{confusion_matrix(y_train4, y_train_pred4)}\\n\\n\",\n",
        "        f\"- Train Classification Report:  \\n{classification_report(y_train4, y_train_pred4)}\",\n",
        "    )"
      ]
    },
    {
      "cell_type": "markdown",
      "id": "01b06162",
      "metadata": {
        "id": "01b06162"
      },
      "source": [
        "**According to the results from Logistic Regression models, the F2-score decreses when we reduce the number of distinct values in country columns - about 2% from 177 values to 11 values. However, the model training time drastically increases as the number of distinct values in country column increases. The more distinct values we have, the more features we get after performing the One-Hot-Encoding, which increases the time required to train the model. Moreover, it is noted that for some models, such as KNN, it is not feasible to use that many features to train the model. Therefore, we decide to keep the top 10 countries that have the largest number of rows and assign 'other' value to the rest. We will use this final dataset to train the rest of the models.**"
      ]
    },
    {
      "cell_type": "code",
      "execution_count": null,
      "id": "ce23389a",
      "metadata": {
        "id": "ce23389a"
      },
      "outputs": [],
      "source": [
        "# get the final model of Logistic Regression\n",
        "final_model_lr = final_model_lr4"
      ]
    },
    {
      "cell_type": "markdown",
      "id": "a5a7fc03",
      "metadata": {
        "id": "a5a7fc03"
      },
      "source": [
        "**We create our final train and test datasets for other modeling techniques.**"
      ]
    },
    {
      "cell_type": "code",
      "execution_count": null,
      "id": "9c8efa74",
      "metadata": {
        "colab": {
          "base_uri": "https://localhost:8080/"
        },
        "id": "9c8efa74",
        "outputId": "46d70288-9d75-402e-d4c9-4da1f8c7bfcc",
        "scrolled": true
      },
      "outputs": [
        {
          "output_type": "execute_result",
          "data": {
            "text/plain": [
              "PRT      26026\n",
              "other    15162\n",
              "GBR      10148\n",
              "FRA       8625\n",
              "ESP       7095\n",
              "DEU       5221\n",
              "ITA       2971\n",
              "IRL       2957\n",
              "BEL       2057\n",
              "BRA       1965\n",
              "NLD       1883\n",
              "Name: country, dtype: int64"
            ]
          },
          "metadata": {},
          "execution_count": 42
        }
      ],
      "source": [
        "# apply bin_country with top 10 to country column and check the result\n",
        "df_new = df.copy()\n",
        "df_new['country'] = df_new['country'].apply(lambda x : bin_country(x, top_10_countries))\n",
        "df_new['country'].value_counts()"
      ]
    },
    {
      "cell_type": "code",
      "execution_count": null,
      "id": "68d62cdd",
      "metadata": {
        "id": "68d62cdd"
      },
      "outputs": [],
      "source": [
        "# get train and test datasets\n",
        "X = df_new.drop(columns=['is_canceled']).copy()\n",
        "y = df_new.is_canceled.copy()\n",
        "X_train, X_test, y_train, y_test = train_test_split(X, y, test_size=0.2, random_state=42)"
      ]
    },
    {
      "cell_type": "markdown",
      "id": "f0b5b390",
      "metadata": {
        "id": "f0b5b390"
      },
      "source": [
        "**We would like to know how many features we have after performing One-Hot-Encoding**"
      ]
    },
    {
      "cell_type": "code",
      "execution_count": null,
      "id": "c54d03b9",
      "metadata": {
        "colab": {
          "base_uri": "https://localhost:8080/"
        },
        "id": "c54d03b9",
        "outputId": "4aecb68c-200c-4018-8138-4cdd348e720f"
      },
      "outputs": [
        {
          "output_type": "stream",
          "name": "stdout",
          "text": [
            "Training Features: 48\n"
          ]
        }
      ],
      "source": [
        "from sklearn.dummy import DummyClassifier\n",
        "\n",
        "pipe = Pipeline(steps = \n",
        "                [('data prep', preprocessor),\n",
        "                 ('model', DummyClassifier())])\n",
        "\n",
        "\n",
        "pipe.fit(X_train, y_train)\n",
        "print(f'Training Features: {len(pipe[:-1].get_feature_names_out())}')"
      ]
    },
    {
      "cell_type": "markdown",
      "id": "GHTlg7Gl__cw",
      "metadata": {
        "id": "GHTlg7Gl__cw"
      },
      "source": [
        "### **K Nearest Neighbor**"
      ]
    },
    {
      "cell_type": "code",
      "execution_count": null,
      "id": "CsekIXMXAJ7n",
      "metadata": {
        "colab": {
          "base_uri": "https://localhost:8080/"
        },
        "id": "CsekIXMXAJ7n",
        "outputId": "a21a7abd-d2c6-4117-d0a8-b66689e4adc6"
      },
      "outputs": [
        {
          "output_type": "execute_result",
          "data": {
            "text/plain": [
              "GridSearchCV(cv=5,\n",
              "             estimator=Pipeline(steps=[('data prep',\n",
              "                                        ColumnTransformer(transformers=[('continuous',\n",
              "                                                                         StandardScaler(),\n",
              "                                                                         ['lead_time',\n",
              "                                                                          'stays_in_weekend_nights',\n",
              "                                                                          'stays_in_week_nights',\n",
              "                                                                          'adults',\n",
              "                                                                          'children',\n",
              "                                                                          'babies',\n",
              "                                                                          'previous_cancellations',\n",
              "                                                                          'previous_bookings_not_canceled',\n",
              "                                                                          'adr',\n",
              "                                                                          'required_car_parking_spaces',\n",
              "                                                                          'total_of_special_requests',\n",
              "                                                                          'arrival_days_diff']),\n",
              "                                                                        ('categorical',\n",
              "                                                                         OneHotEncoder(drop='first',\n",
              "                                                                                       handle_unknown='ignore'),\n",
              "                                                                         ['hotel',\n",
              "                                                                          'meal',\n",
              "                                                                          'country',\n",
              "                                                                          'market_segment',\n",
              "                                                                          'distribution_channel',\n",
              "                                                                          'reserved_room_type',\n",
              "                                                                          'deposit_type',\n",
              "                                                                          'customer_type'])])),\n",
              "                                       ('model', KNeighborsClassifier())]),\n",
              "             param_grid={'model__n_neighbors': [5, 15, 30],\n",
              "                         'model__weights': ['uniform', 'distance']},\n",
              "             scoring=make_scorer(fbeta_score, beta=2))"
            ]
          },
          "metadata": {},
          "execution_count": 56
        }
      ],
      "source": [
        "from sklearn.neighbors import KNeighborsClassifier\n",
        "\n",
        "# use pipeline to train K Nearest Neighbor model\n",
        "pipe = Pipeline(steps = \n",
        "                [('data prep', preprocessor),\n",
        "                 ('model', KNeighborsClassifier())])\n",
        "\n",
        "param_grid = {\n",
        "    'model__weights': ['uniform', 'distance'],\n",
        "    'model__n_neighbors': [5, 15, 30]\n",
        "}\n",
        "\n",
        "search = GridSearchCV(pipe, \n",
        "                        param_grid, \n",
        "                        scoring=f2_scorer, \n",
        "                        cv=5)\n",
        "\n",
        "search.fit(X_train, y_train)"
      ]
    },
    {
      "cell_type": "code",
      "execution_count": null,
      "id": "Ojb-71gUAJ7n",
      "metadata": {
        "colab": {
          "base_uri": "https://localhost:8080/"
        },
        "id": "Ojb-71gUAJ7n",
        "outputId": "44401eb8-f12d-4d5f-f36e-f01d2cf6bf97"
      },
      "outputs": [
        {
          "output_type": "stream",
          "name": "stdout",
          "text": [
            "Best KNN Estimator\n",
            "\n",
            " - Train f2: 0.5744850858937701\n",
            "\n",
            " - Train Confusion Matrix: \n",
            "[[48463    25]\n",
            " [  182 18618]]\n",
            "\n",
            " - Train Classification Report:  \n",
            "              precision    recall  f1-score   support\n",
            "\n",
            "           0       1.00      1.00      1.00     48488\n",
            "           1       1.00      0.99      0.99     18800\n",
            "\n",
            "    accuracy                           1.00     67288\n",
            "   macro avg       1.00      0.99      1.00     67288\n",
            "weighted avg       1.00      1.00      1.00     67288\n",
            "\n"
          ]
        }
      ],
      "source": [
        "final_model_knn = search.best_estimator_\n",
        "\n",
        "y_train_pred = final_model_knn.predict(X_train)\n",
        "\n",
        "print(  f\"Best KNN Estimator\\n\\n\",\n",
        "        f\"- Train f2: {search.best_score_}\\n\\n\",\n",
        "        f\"- Train Confusion Matrix: \\n{confusion_matrix(y_train, y_train_pred)}\\n\\n\",\n",
        "        f\"- Train Classification Report:  \\n{classification_report(y_train, y_train_pred)}\",\n",
        "    )"
      ]
    },
    {
      "cell_type": "code",
      "execution_count": null,
      "id": "hUSxaB9wB8Nx",
      "metadata": {
        "id": "hUSxaB9wB8Nx"
      },
      "outputs": [],
      "source": [
        "# save\n",
        "with open('best_knn_model.pkl','wb') as f:\n",
        "    pickle.dump(final_model_knn, f)\n",
        "\n",
        "# load\n",
        "# with open('best_knn_model.pkl', 'rb') as f:\n",
        "#     final_model_knn = pickle.load(f)"
      ]
    },
    {
      "cell_type": "markdown",
      "id": "KXoJNn5O8BXf",
      "metadata": {
        "id": "KXoJNn5O8BXf"
      },
      "source": [
        "### **Decision Tree**"
      ]
    },
    {
      "cell_type": "code",
      "execution_count": null,
      "id": "yOLs2u3N8FeY",
      "metadata": {
        "colab": {
          "base_uri": "https://localhost:8080/"
        },
        "id": "yOLs2u3N8FeY",
        "outputId": "eaa6bc65-3e51-4b65-e591-2110af0e589f"
      },
      "outputs": [
        {
          "output_type": "execute_result",
          "data": {
            "text/plain": [
              "GridSearchCV(cv=5,\n",
              "             estimator=Pipeline(steps=[('data prep',\n",
              "                                        ColumnTransformer(transformers=[('continuous',\n",
              "                                                                         StandardScaler(),\n",
              "                                                                         ['lead_time',\n",
              "                                                                          'stays_in_weekend_nights',\n",
              "                                                                          'stays_in_week_nights',\n",
              "                                                                          'adults',\n",
              "                                                                          'children',\n",
              "                                                                          'babies',\n",
              "                                                                          'previous_cancellations',\n",
              "                                                                          'previous_bookings_not_canceled',\n",
              "                                                                          'adr',\n",
              "                                                                          'required_car_parking_spaces',\n",
              "                                                                          'total_of_special_requests',\n",
              "                                                                          'arrival_days_diff']),\n",
              "                                                                        ('categorical',\n",
              "                                                                         OneHotEncoder(drop='first',\n",
              "                                                                                       handle_unknown='ignore'),\n",
              "                                                                         ['hotel',\n",
              "                                                                          'meal',\n",
              "                                                                          'country',\n",
              "                                                                          'market_segment',\n",
              "                                                                          'distribution_channel',\n",
              "                                                                          'reserved_room_type',\n",
              "                                                                          'deposit_type',\n",
              "                                                                          'customer_type'])])),\n",
              "                                       ('model', DecisionTreeClassifier())]),\n",
              "             param_grid={'model__max_depth': [10, 50, 100, None]},\n",
              "             scoring=make_scorer(fbeta_score, beta=2))"
            ]
          },
          "metadata": {},
          "execution_count": 58
        }
      ],
      "source": [
        "from sklearn.tree import DecisionTreeClassifier\n",
        "\n",
        "# use pipeline to train Decision Tree model\n",
        "pipe = Pipeline(steps = \n",
        "                [('data prep', preprocessor),\n",
        "                 ('model', DecisionTreeClassifier())])\n",
        "\n",
        "\n",
        "\n",
        "param_grid = {\n",
        "    'model__max_depth': [10, 50, 100, None],\n",
        "}\n",
        "\n",
        "search = GridSearchCV(pipe, \n",
        "                        param_grid, \n",
        "                        scoring=f2_scorer, \n",
        "                        cv=5)\n",
        "\n",
        "search.fit(X_train, y_train)"
      ]
    },
    {
      "cell_type": "code",
      "execution_count": null,
      "id": "GO-kXhfp9QgN",
      "metadata": {
        "colab": {
          "base_uri": "https://localhost:8080/"
        },
        "id": "GO-kXhfp9QgN",
        "outputId": "07086051-7ee7-4d7c-cba6-dec2e23d7285"
      },
      "outputs": [
        {
          "output_type": "stream",
          "name": "stdout",
          "text": [
            "Best DT Estimator\n",
            "\n",
            " - Train f2: 0.60899331467736\n",
            "\n",
            " - Train Confusion Matrix: \n",
            "[[43588  4900]\n",
            " [ 7577 11223]]\n",
            "\n",
            " - Train Classification Report:  \n",
            "              precision    recall  f1-score   support\n",
            "\n",
            "           0       0.85      0.90      0.87     48488\n",
            "           1       0.70      0.60      0.64     18800\n",
            "\n",
            "    accuracy                           0.81     67288\n",
            "   macro avg       0.77      0.75      0.76     67288\n",
            "weighted avg       0.81      0.81      0.81     67288\n",
            "\n"
          ]
        }
      ],
      "source": [
        "final_model_dt = search.best_estimator_\n",
        "\n",
        "y_train_pred = final_model_dt.predict(X_train)\n",
        "\n",
        "print(  f\"Best DT Estimator\\n\\n\",\n",
        "        f\"- Train f2: {search.best_score_}\\n\\n\",\n",
        "        f\"- Train Confusion Matrix: \\n{confusion_matrix(y_train, y_train_pred)}\\n\\n\",\n",
        "        f\"- Train Classification Report:  \\n{classification_report(y_train, y_train_pred)}\",\n",
        "    )"
      ]
    },
    {
      "cell_type": "code",
      "execution_count": null,
      "id": "CmYH0psQBfwr",
      "metadata": {
        "id": "CmYH0psQBfwr"
      },
      "outputs": [],
      "source": [
        "# save\n",
        "with open('best_rf_model.pkl','wb') as f:\n",
        "    pickle.dump(final_model_dt, f)\n",
        "\n",
        "# load\n",
        "# with open('best_rf_model.pkl', 'rb') as f:\n",
        "#     final_model_dt = pickle.load(f)"
      ]
    },
    {
      "cell_type": "markdown",
      "id": "0803eec1",
      "metadata": {
        "id": "0803eec1"
      },
      "source": [
        "### **Random Forest**"
      ]
    },
    {
      "cell_type": "code",
      "execution_count": null,
      "id": "9915d6c8",
      "metadata": {
        "colab": {
          "base_uri": "https://localhost:8080/"
        },
        "id": "9915d6c8",
        "outputId": "b632578d-b8d1-4a26-e314-77153c906312"
      },
      "outputs": [
        {
          "output_type": "execute_result",
          "data": {
            "text/plain": [
              "GridSearchCV(cv=5,\n",
              "             estimator=Pipeline(steps=[('data prep',\n",
              "                                        ColumnTransformer(transformers=[('continuous',\n",
              "                                                                         StandardScaler(),\n",
              "                                                                         ['lead_time',\n",
              "                                                                          'stays_in_weekend_nights',\n",
              "                                                                          'stays_in_week_nights',\n",
              "                                                                          'adults',\n",
              "                                                                          'children',\n",
              "                                                                          'babies',\n",
              "                                                                          'previous_cancellations',\n",
              "                                                                          'previous_bookings_not_canceled',\n",
              "                                                                          'adr',\n",
              "                                                                          'required_car_parking_spaces',\n",
              "                                                                          'total_of_special_requests',\n",
              "                                                                          'arrival_days_diff']),\n",
              "                                                                        ('categorical',\n",
              "                                                                         OneHotEncoder(drop='first',\n",
              "                                                                                       handle_unknown='ignore'),\n",
              "                                                                         ['hotel',\n",
              "                                                                          'meal',\n",
              "                                                                          'country',\n",
              "                                                                          'market_segment',\n",
              "                                                                          'distribution_channel',\n",
              "                                                                          'reserved_room_type',\n",
              "                                                                          'deposit_type',\n",
              "                                                                          'customer_type'])])),\n",
              "                                       ('model', RandomForestClassifier())]),\n",
              "             param_grid={'model__max_depth': [100, 200, 500],\n",
              "                         'model__max_features': [2, 5, 14]},\n",
              "             scoring=make_scorer(fbeta_score, beta=2))"
            ]
          },
          "metadata": {},
          "execution_count": 60
        }
      ],
      "source": [
        "from sklearn.ensemble import RandomForestClassifier\n",
        "\n",
        "# use pipeline to train Random Forrest model\n",
        "pipe = Pipeline(steps = \n",
        "                [('data prep', preprocessor),\n",
        "                 ('model', RandomForestClassifier())])\n",
        "\n",
        "ls_max_feature = [int(np.ceil(np.sqrt(len(X.columns)) / 3)),\n",
        "                  int(np.ceil(np.sqrt(len(X.columns)))),\n",
        "                  int(np.ceil(np.sqrt(len(X.columns)) * 3))]\n",
        "\n",
        "param_grid = {\n",
        "    'model__max_depth': [100, 200, 500],\n",
        "    'model__max_features': ls_max_feature,\n",
        "}\n",
        "\n",
        "search = GridSearchCV(pipe, \n",
        "                        param_grid, \n",
        "                        scoring=f2_scorer, \n",
        "                        cv=5)\n",
        "\n",
        "search.fit(X_train, y_train)"
      ]
    },
    {
      "cell_type": "code",
      "execution_count": null,
      "id": "6BpoRdlI7qqR",
      "metadata": {
        "colab": {
          "base_uri": "https://localhost:8080/"
        },
        "id": "6BpoRdlI7qqR",
        "outputId": "27fa5cac-0111-4302-812a-7e05f44c8c61"
      },
      "outputs": [
        {
          "output_type": "stream",
          "name": "stdout",
          "text": [
            "Best RF Estimator\n",
            "\n",
            " - Train f2: 0.6348917619659014\n",
            "\n",
            " - Train Confusion Matrix: \n",
            "[[48410    78]\n",
            " [  130 18670]]\n",
            "\n",
            " - Train Classification Report:  \n",
            "              precision    recall  f1-score   support\n",
            "\n",
            "           0       1.00      1.00      1.00     48488\n",
            "           1       1.00      0.99      0.99     18800\n",
            "\n",
            "    accuracy                           1.00     67288\n",
            "   macro avg       1.00      1.00      1.00     67288\n",
            "weighted avg       1.00      1.00      1.00     67288\n",
            "\n"
          ]
        }
      ],
      "source": [
        "final_model_rf = search.best_estimator_\n",
        "\n",
        "y_train_pred = final_model_rf.predict(X_train)\n",
        "\n",
        "print(  f\"Best RF Estimator\\n\\n\",\n",
        "        f\"- Train f2: {search.best_score_}\\n\\n\",\n",
        "        f\"- Train Confusion Matrix: \\n{confusion_matrix(y_train, y_train_pred)}\\n\\n\",\n",
        "        f\"- Train Classification Report:  \\n{classification_report(y_train, y_train_pred)}\",\n",
        "    )"
      ]
    },
    {
      "cell_type": "code",
      "execution_count": null,
      "id": "nZExmzfGBUFh",
      "metadata": {
        "id": "nZExmzfGBUFh"
      },
      "outputs": [],
      "source": [
        "# save\n",
        "with open('best_rf_model.pkl','wb') as f:\n",
        "    pickle.dump(final_model_rf, f)\n",
        "\n",
        "# load\n",
        "# with open('best_rf_model.pkl', 'rb') as f:\n",
        "#     final_model_rf = pickle.load(f)"
      ]
    },
    {
      "cell_type": "markdown",
      "id": "4q7wI5oU9iAG",
      "metadata": {
        "id": "4q7wI5oU9iAG"
      },
      "source": [
        "### **XGBoost** "
      ]
    },
    {
      "cell_type": "code",
      "execution_count": null,
      "id": "G8sNSfxQ9hfU",
      "metadata": {
        "id": "G8sNSfxQ9hfU",
        "scrolled": false,
        "colab": {
          "base_uri": "https://localhost:8080/"
        },
        "outputId": "1cfce7e8-eaa7-4cbe-e672-126afafd1e39"
      },
      "outputs": [
        {
          "output_type": "stream",
          "name": "stdout",
          "text": [
            "Fitting 5 folds for each of 1 candidates, totalling 5 fits\n",
            "Time taken for Grid Search: 839.8576369285583s\n"
          ]
        }
      ],
      "source": [
        "from xgboost import XGBClassifier\n",
        "\n",
        "# use pipeline to train XGBClassifier\n",
        "pipe = Pipeline(steps = \n",
        "                [('data prep', preprocessor),\n",
        "                 ('model', XGBClassifier())])\n",
        "\n",
        "param_grid = {\n",
        "    'model__booster': ['gbtree'],\n",
        "    'model__learning_rate': [0.1, 0.001],\n",
        "    'model__max_depth': [10, 25, 50],\n",
        "    'model__n_estimators': [50, 150, 200],\n",
        "}\n",
        "\n",
        "\n",
        "search = GridSearchCV(pipe, \n",
        "                        param_grid, \n",
        "                        scoring=f2_scorer, \n",
        "                        cv=5,\n",
        "                        n_jobs=-1,\n",
        "                        verbose=3)\n",
        "\n",
        "start = time.time()\n",
        "\n",
        "search.fit(X_train, y_train)\n",
        "\n",
        "end = time.time()\n",
        "print(f'Time taken for Grid Search: {end - start}s')"
      ]
    },
    {
      "cell_type": "code",
      "execution_count": null,
      "id": "vvjRUYBR_gCa",
      "metadata": {
        "colab": {
          "base_uri": "https://localhost:8080/"
        },
        "id": "vvjRUYBR_gCa",
        "outputId": "a6e9335d-d94c-4f09-e688-4dae96c5822d"
      },
      "outputs": [
        {
          "name": "stdout",
          "output_type": "stream",
          "text": [
            "Best XGB Estimator\n",
            "\n",
            " - Train f2: 0.6165290972547077\n",
            "\n",
            " - Train Confusion Matrix: \n",
            "[[45942  2546]\n",
            " [ 3767 15033]]\n",
            "\n",
            " - Train Classification Report:  \n",
            "              precision    recall  f1-score   support\n",
            "\n",
            "           0       0.92      0.95      0.94     48488\n",
            "           1       0.86      0.80      0.83     18800\n",
            "\n",
            "    accuracy                           0.91     67288\n",
            "   macro avg       0.89      0.87      0.88     67288\n",
            "weighted avg       0.90      0.91      0.91     67288\n",
            "\n"
          ]
        }
      ],
      "source": [
        "final_model_xgb = search.best_estimator_\n",
        "\n",
        "y_train_pred = final_model_xgb.predict(X_train)\n",
        "\n",
        "print(  f\"Best XGB Estimator\\n\\n\",\n",
        "        f\"- Train f2: {search.best_score_}\\n\\n\",\n",
        "        f\"- Train Confusion Matrix: \\n{confusion_matrix(y_train, y_train_pred)}\\n\\n\",\n",
        "        f\"- Train Classification Report:  \\n{classification_report(y_train, y_train_pred)}\",\n",
        "    )"
      ]
    },
    {
      "cell_type": "code",
      "execution_count": null,
      "id": "QPb1wK5HA23y",
      "metadata": {
        "id": "QPb1wK5HA23y"
      },
      "outputs": [],
      "source": [
        "# save\n",
        "with open('best_xgb_model.pkl','wb') as f:\n",
        "    pickle.dump(final_model_xgb, f)\n",
        "\n",
        "# load\n",
        "# with open('best_xgb_model.pkl', 'rb') as f:\n",
        "#     final_model_xgb = pickle.load(f)"
      ]
    },
    {
      "cell_type": "markdown",
      "id": "BwGtBNASBP9s",
      "metadata": {
        "id": "BwGtBNASBP9s"
      },
      "source": [
        "### **Artificial Neural Network**"
      ]
    },
    {
      "cell_type": "code",
      "execution_count": null,
      "id": "sU66AR5oBPXU",
      "metadata": {
        "id": "sU66AR5oBPXU"
      },
      "outputs": [],
      "source": [
        "# configure model class to work with scikit learn framework\n",
        "\n",
        "import keras\n",
        "from keras.layers import Dense\n",
        "from keras.models import Sequential\n",
        "from scikeras.wrappers import KerasClassifier\n",
        "\n",
        "class MLPClassifier(KerasClassifier):\n",
        "    \"\"\"\n",
        "    REF: https://www.adriangb.com/scikeras/stable/notebooks/MLPClassifier_MLPRegressor.html\n",
        "    \"\"\"\n",
        "    def __init__(\n",
        "        self,\n",
        "        hidden_layer_sizes=(100, ),\n",
        "        optimizer=\"adam\",\n",
        "        optimizer__learning_rate=0.001,\n",
        "        epochs=200,\n",
        "        verbose=0,\n",
        "        **kwargs,\n",
        "    ):\n",
        "        super().__init__(**kwargs)\n",
        "        self.hidden_layer_sizes = hidden_layer_sizes\n",
        "        self.optimizer = optimizer\n",
        "        self.epochs = epochs\n",
        "        self.verbose = verbose\n",
        "\n",
        "    def _keras_build_fn(self, compile_kwargs: Dict[str, Any]):\n",
        "        model = keras.Sequential()\n",
        "        inp = keras.layers.Input(shape=(self.n_features_in_))\n",
        "        model.add(inp)\n",
        "        for hidden_layer_size in self.hidden_layer_sizes:\n",
        "            layer = keras.layers.Dense(hidden_layer_size, activation=\"relu\")\n",
        "            model.add(layer)\n",
        "        if self.target_type_ == \"binary\":\n",
        "            n_output_units = 1\n",
        "            output_activation = \"sigmoid\"\n",
        "            loss = \"binary_crossentropy\"\n",
        "        elif self.target_type_ == \"multiclass\":\n",
        "            n_output_units = self.n_classes_\n",
        "            output_activation = \"softmax\"\n",
        "            loss = \"sparse_categorical_crossentropy\"\n",
        "        else:\n",
        "            raise NotImplementedError(f\"Unsupported task type: {self.target_type_}\")\n",
        "        out = keras.layers.Dense(n_output_units, activation=output_activation)\n",
        "        model.add(out)\n",
        "        model.compile(loss=loss, optimizer=compile_kwargs[\"optimizer\"])\n",
        "        return model\n"
      ]
    },
    {
      "cell_type": "code",
      "execution_count": null,
      "id": "ezNOyviv8d7O",
      "metadata": {
        "colab": {
          "base_uri": "https://localhost:8080/"
        },
        "id": "ezNOyviv8d7O",
        "outputId": "057b74db-595b-4039-b23a-e02b1997dca0"
      },
      "outputs": [
        {
          "name": "stdout",
          "output_type": "stream",
          "text": [
            "Fitting 5 folds for each of 2 candidates, totalling 10 fits\n",
            "Time taken for Grid Search: 3333.7236437797546s\n"
          ]
        }
      ],
      "source": [
        "# build the pipeline with new classifier\n",
        "\n",
        "pipe = Pipeline(steps = \n",
        "                [('data prep', preprocessor),\n",
        "                 ('model', MLPClassifier(target_type_= 'binary'))])\n",
        "\n",
        "param_grid = {\n",
        "    'model__hidden_layer_sizes': [(100, 100,), (100, 100, 100,)],\n",
        "    'model__epochs': [100]\n",
        "}\n",
        "\n",
        "search = GridSearchCV(pipe, \n",
        "                        param_grid, \n",
        "                        scoring=f2_scorer, \n",
        "                        cv=5,\n",
        "                        n_jobs=-1,\n",
        "                        verbose=3)\n",
        "\n",
        "start = time.time()\n",
        "\n",
        "search.fit(X_train, y_train)\n",
        "\n",
        "end = time.time()\n",
        "print(f'Time taken for Grid Search: {end - start}s')"
      ]
    },
    {
      "cell_type": "code",
      "execution_count": null,
      "id": "tWxMTnDsN6Q0",
      "metadata": {
        "colab": {
          "base_uri": "https://localhost:8080/"
        },
        "id": "tWxMTnDsN6Q0",
        "outputId": "c1b0e9ab-1f00-429d-f77f-3c8f02dc182e"
      },
      "outputs": [
        {
          "name": "stdout",
          "output_type": "stream",
          "text": [
            "Best ANN Estimator\n",
            "\n",
            " - Train f2: 0.6165290972547077\n",
            "\n",
            " - Train Confusion Matrix: \n",
            "[[45942  2546]\n",
            " [ 3767 15033]]\n",
            "\n",
            " - Train Classification Report:  \n",
            "              precision    recall  f1-score   support\n",
            "\n",
            "           0       0.92      0.95      0.94     48488\n",
            "           1       0.86      0.80      0.83     18800\n",
            "\n",
            "    accuracy                           0.91     67288\n",
            "   macro avg       0.89      0.87      0.88     67288\n",
            "weighted avg       0.90      0.91      0.91     67288\n",
            "\n"
          ]
        }
      ],
      "source": [
        "final_model_ann = search.best_estimator_\n",
        "\n",
        "y_train_pred = final_model_ann.predict(X_train)\n",
        "\n",
        "print(  f\"Best ANN Estimator\\n\\n\",\n",
        "        f\"- Train f2: {search.best_score_}\\n\\n\",\n",
        "        f\"- Train Confusion Matrix: \\n{confusion_matrix(y_train, y_train_pred)}\\n\\n\",\n",
        "        f\"- Train Classification Report:  \\n{classification_report(y_train, y_train_pred)}\",\n",
        "    )"
      ]
    },
    {
      "cell_type": "code",
      "execution_count": null,
      "id": "0jHnCfFlAz53",
      "metadata": {
        "id": "0jHnCfFlAz53"
      },
      "outputs": [],
      "source": [
        "# save\n",
        "with open('best_ann_model.pkl','wb') as f:\n",
        "    pickle.dump(final_model_ann, f)\n",
        "\n",
        "# load\n",
        "# with open('best_ann_model.pkl', 'rb') as f:\n",
        "#     final_model_ann = pickle.load(f)"
      ]
    },
    {
      "cell_type": "markdown",
      "id": "nElg_t0g_ayS",
      "metadata": {
        "id": "nElg_t0g_ayS"
      },
      "source": [
        "### **Final Model selection**"
      ]
    },
    {
      "cell_type": "markdown",
      "id": "c8199de9",
      "metadata": {
        "id": "c8199de9"
      },
      "source": [
        "**The model that gives the highest F2-Score is the Random Forest model. Thus, we select it as our best model. Then we would like to improve its performance further more. As we mentioned in the data preprocessing section, we have an imbalanced dataset.**\n",
        "\n",
        "**We tried the above ablations to maximize F2 scores. This gave us the best candidate modeling paradigm. Now to push its recall and precision scores higher, we will try to balance the rows with each label in our dataset, by oversampling the minorty class, just to see whether that will help to improve our model performance.**"
      ]
    },
    {
      "cell_type": "code",
      "execution_count": null,
      "id": "80f50009",
      "metadata": {
        "colab": {
          "base_uri": "https://localhost:8080/"
        },
        "id": "80f50009",
        "outputId": "7aaa533f-6f46-4317-a10d-e7f113d192c1"
      },
      "outputs": [
        {
          "output_type": "execute_result",
          "data": {
            "text/plain": [
              "[0, 7, 8, 9, 10, 14, 15, 16]"
            ]
          },
          "metadata": {},
          "execution_count": 45
        }
      ],
      "source": [
        "cat_idx = [i for i, col in enumerate(X_train.columns) if col in cat_features]\n",
        "cat_idx"
      ]
    },
    {
      "cell_type": "code",
      "execution_count": null,
      "id": "61b2dedf",
      "metadata": {
        "colab": {
          "base_uri": "https://localhost:8080/"
        },
        "id": "61b2dedf",
        "outputId": "7354ae74-3b74-4f43-9f81-89c75a3b4bc3",
        "scrolled": true
      },
      "outputs": [
        {
          "output_type": "execute_result",
          "data": {
            "text/plain": [
              "['hotel',\n",
              " 'meal',\n",
              " 'country',\n",
              " 'market_segment',\n",
              " 'distribution_channel',\n",
              " 'reserved_room_type',\n",
              " 'deposit_type',\n",
              " 'customer_type']"
            ]
          },
          "metadata": {},
          "execution_count": 46
        }
      ],
      "source": [
        "cat_features"
      ]
    },
    {
      "cell_type": "code",
      "source": [
        "from imblearn.over_sampling import SMOTENC \n",
        "\n",
        "sm = SMOTENC(categorical_features=cat_idx, random_state=0)\n",
        "\n",
        "X_over, y_over = sm.fit_resample(X_train, y_train)"
      ],
      "metadata": {
        "id": "3_-_27xAJkqS"
      },
      "id": "3_-_27xAJkqS",
      "execution_count": null,
      "outputs": []
    },
    {
      "cell_type": "code",
      "execution_count": null,
      "id": "2f4b656b",
      "metadata": {
        "colab": {
          "base_uri": "https://localhost:8080/"
        },
        "id": "2f4b656b",
        "outputId": "bddc0aab-5ec8-4b91-9264-be32d65fff21"
      },
      "outputs": [
        {
          "output_type": "stream",
          "name": "stdout",
          "text": [
            "Fitting 5 folds for each of 9 candidates, totalling 45 fits\n"
          ]
        },
        {
          "output_type": "execute_result",
          "data": {
            "text/plain": [
              "GridSearchCV(cv=5,\n",
              "             estimator=Pipeline(steps=[('data prep',\n",
              "                                        ColumnTransformer(transformers=[('continuous',\n",
              "                                                                         StandardScaler(),\n",
              "                                                                         ['lead_time',\n",
              "                                                                          'stays_in_weekend_nights',\n",
              "                                                                          'stays_in_week_nights',\n",
              "                                                                          'adults',\n",
              "                                                                          'children',\n",
              "                                                                          'babies',\n",
              "                                                                          'previous_cancellations',\n",
              "                                                                          'previous_bookings_not_canceled',\n",
              "                                                                          'adr',\n",
              "                                                                          'required_car_parking_spaces',\n",
              "                                                                          'total_of_special_requests',\n",
              "                                                                          'arrival_days_diff...\n",
              "                                                                        ('categorical',\n",
              "                                                                         OneHotEncoder(drop='first',\n",
              "                                                                                       handle_unknown='ignore'),\n",
              "                                                                         ['hotel',\n",
              "                                                                          'meal',\n",
              "                                                                          'country',\n",
              "                                                                          'market_segment',\n",
              "                                                                          'distribution_channel',\n",
              "                                                                          'reserved_room_type',\n",
              "                                                                          'deposit_type',\n",
              "                                                                          'customer_type'])])),\n",
              "                                       ('model', RandomForestClassifier())]),\n",
              "             n_jobs=-1,\n",
              "             param_grid={'model__max_depth': [100, 200, 500],\n",
              "                         'model__max_features': [2, 5, 14]},\n",
              "             scoring=make_scorer(fbeta_score, beta=2), verbose=3)"
            ]
          },
          "metadata": {},
          "execution_count": 66
        }
      ],
      "source": [
        "from sklearn.ensemble import RandomForestClassifier\n",
        "\n",
        "# use pipeline to train Random Forrest model\n",
        "pipe = Pipeline(steps = \n",
        "                [('data prep', preprocessor),\n",
        "                 ('model', RandomForestClassifier())])\n",
        "\n",
        "ls_max_feature = [int(np.ceil(np.sqrt(len(X.columns)) / 3)),\n",
        "                  int(np.ceil(np.sqrt(len(X.columns)))),\n",
        "                  int(np.ceil(np.sqrt(len(X.columns)) * 3))]\n",
        "\n",
        "param_grid = {\n",
        "    'model__max_depth': [100, 200, 500],\n",
        "    'model__max_features': ls_max_feature,\n",
        "}\n",
        "\n",
        "search = GridSearchCV(pipe, \n",
        "                        param_grid, \n",
        "                        scoring=f2_scorer, \n",
        "                        cv=5,\n",
        "                        n_jobs=-1,\n",
        "                        verbose=3)\n",
        "\n",
        "search.fit(X_over, y_over)"
      ]
    },
    {
      "cell_type": "code",
      "execution_count": null,
      "id": "8e167e67",
      "metadata": {
        "colab": {
          "base_uri": "https://localhost:8080/"
        },
        "id": "8e167e67",
        "outputId": "076609ac-4039-4dcd-ea2a-d45d68527090"
      },
      "outputs": [
        {
          "output_type": "stream",
          "name": "stdout",
          "text": [
            "Best RF Estimator\n",
            "\n",
            " - Train f2: 0.8475324917968997\n",
            "\n",
            " - Train Confusion Matrix: \n",
            "[[48394    94]\n",
            " [  114 48374]]\n",
            "\n",
            " - Train Classification Report:  \n",
            "              precision    recall  f1-score   support\n",
            "\n",
            "           0       1.00      1.00      1.00     48488\n",
            "           1       1.00      1.00      1.00     48488\n",
            "\n",
            "    accuracy                           1.00     96976\n",
            "   macro avg       1.00      1.00      1.00     96976\n",
            "weighted avg       1.00      1.00      1.00     96976\n",
            "\n"
          ]
        }
      ],
      "source": [
        "final_model_rf_over = search.best_estimator_\n",
        "\n",
        "y_train_pred = final_model_rf_over.predict(X_over)\n",
        "\n",
        "print(  f\"Best RF Estimator\\n\\n\",\n",
        "        f\"- Train f2: {search.best_score_}\\n\\n\",\n",
        "        f\"- Train Confusion Matrix: \\n{confusion_matrix(y_over, y_train_pred)}\\n\\n\",\n",
        "        f\"- Train Classification Report:  \\n{classification_report(y_over, y_train_pred)}\",\n",
        "    )"
      ]
    },
    {
      "cell_type": "code",
      "execution_count": null,
      "id": "05acce9d",
      "metadata": {
        "id": "05acce9d"
      },
      "outputs": [],
      "source": [
        "# select the best model\n",
        "selected_model = final_model_rf_over"
      ]
    },
    {
      "cell_type": "code",
      "execution_count": null,
      "id": "NxwnQ6p3D9xJ",
      "metadata": {
        "id": "NxwnQ6p3D9xJ"
      },
      "outputs": [],
      "source": [
        "# save\n",
        "with open('selected_model.pkl','wb') as f:\n",
        "    pickle.dump(selected_model, f)\n",
        "\n",
        "# load\n",
        "# with open('selected_model.pkl', 'rb') as f:\n",
        "#     selected_model = pickle.load(f)"
      ]
    },
    {
      "cell_type": "markdown",
      "id": "VriC2nnGHUzR",
      "metadata": {
        "id": "VriC2nnGHUzR"
      },
      "source": [
        "**According to the training result, the F2-score increases from 0.635 to 0.845 after we do the oversampling on training dataset. We see a massive affect of minorty class over-sampling on our results. Therefore, we decide to use this model as our final model and evaluate this model on the test data in the next section.**"
      ]
    },
    {
      "cell_type": "markdown",
      "id": "111b1807",
      "metadata": {
        "id": "111b1807"
      },
      "source": [
        "## **3. Model Evaluation**"
      ]
    },
    {
      "cell_type": "markdown",
      "id": "df7479b7",
      "metadata": {
        "id": "df7479b7"
      },
      "source": [
        "**To evaluate our model, we select the threshold for classification that gives the highest F2-Score on training dataset. We test the model to predict probability on test data and use selected threshold to make classification based on predicted probability. If the predicted probability is greater than or equal to the threshold, we will classify that data point as class 1 (cancelled). If the predicted probability is less than the threshold, we will classify that data point as class 0 (not cancelled). Lastly, we calculate recall, precision, false positive rate, and F2-Score on the test dataset and report as our model performance.**"
      ]
    },
    {
      "cell_type": "code",
      "execution_count": null,
      "id": "a024f7ea",
      "metadata": {
        "id": "a024f7ea"
      },
      "outputs": [],
      "source": [
        "# choose the best threshold based on F2-Score\n",
        "# evaluates the model on test data\n",
        "\n",
        "predicted_train_prob = selected_model.predict_proba(X_over)[:,1]\n",
        "\n",
        "prec, recall, thre = precision_recall_curve(y_over, predicted_train_prob, pos_label=1)\n",
        "\n",
        "# calculate F2-score for each threshold\n",
        "f2_score_thre =  (5 * prec * recall) / ((4 * prec) + recall)\n",
        "\n",
        "# get best threshold\n",
        "best_threshold_idx = np.argmax(f2_score_thre)\n",
        "best_threshold = thre[best_threshold_idx]"
      ]
    },
    {
      "cell_type": "code",
      "source": [
        "# get predicted values on test data using best threshold\n",
        "predicted_test_prob = selected_model.predict_proba(X_test)[:,1]\n",
        "y_pred_test = (predicted_test_prob >= best_threshold)\n",
        "\n",
        "# calculate scores on test data\n",
        "f2_sc = fbeta_score(y_test, y_pred_test, pos_label=1, beta=2)\n",
        "tn, fp, fn, tp = confusion_matrix(y_test, y_pred_test).ravel()\n",
        "\n",
        "test_precision = tp / (tp+fp)\n",
        "test_recall = tp / (tp+fn)\n",
        "test_fpr = fp / (tn+fp)\n",
        "\n",
        "print(f'Best threshold:             {best_threshold:0.3f}')\n",
        "print(f'Test Precision:             {test_precision:0.3f}')\n",
        "print(f'Test Recall:                {test_recall:0.3f}')\n",
        "print(f'Test False Positive Rate:   {test_fpr:0.3f}')\n",
        "print(f'Test F2-Score:              {f2_sc:0.3f}')"
      ],
      "metadata": {
        "colab": {
          "base_uri": "https://localhost:8080/"
        },
        "id": "_bAbLBeXJwaK",
        "outputId": "cb1aeb9d-49b0-4d04-f956-b342bda7dc36"
      },
      "id": "_bAbLBeXJwaK",
      "execution_count": null,
      "outputs": [
        {
          "output_type": "stream",
          "name": "stdout",
          "text": [
            "Best threshold:             0.420\n",
            "Test Precision:             0.618\n",
            "Test Recall:                0.778\n",
            "Test False Positive Rate:   0.187\n",
            "Test F2-Score:              0.740\n"
          ]
        }
      ]
    },
    {
      "cell_type": "markdown",
      "id": "1bd58b0c",
      "metadata": {
        "id": "1bd58b0c"
      },
      "source": [
        "**We get the feature importances from the Random Forest model so that we can use them to analyze which areas hotels should improve to reduce their cancellation rates.**"
      ]
    },
    {
      "cell_type": "code",
      "execution_count": null,
      "id": "87b6fe0f",
      "metadata": {
        "id": "87b6fe0f",
        "outputId": "16a3af49-ecba-4288-8cc6-4c256eac5420",
        "colab": {
          "base_uri": "https://localhost:8080/"
        }
      },
      "outputs": [
        {
          "output_type": "execute_result",
          "data": {
            "text/plain": [
              "[('hotel', 0.16939631265744298),\n",
              " ('country', 0.12272483948215865),\n",
              " ('is_repeated_guest', 0.1198720542292123),\n",
              " ('distribution_channel', 0.09424110897088854),\n",
              " ('market_segment', 0.04757703208536493),\n",
              " ('stays_in_weekend_nights', 0.04314597512765034),\n",
              " ('lead_time', 0.025015427053123138),\n",
              " ('adults', 0.016955771549818206),\n",
              " ('stays_in_week_nights', 0.01661277328119226),\n",
              " ('previous_cancellations', 0.011293108697749315),\n",
              " ('deposit_type', 0.008901084267828116),\n",
              " ('babies', 0.00861973209311163),\n",
              " ('meal', 0.007862258784820437),\n",
              " ('arrival_days_diff', 0.007826786173972238),\n",
              " ('reserved_room_type', 0.006645510641896427),\n",
              " ('total_of_special_requests', 0.005828698630500828),\n",
              " ('required_car_parking_spaces', 0.00466571003687894),\n",
              " ('adr', 0.004386189134225399),\n",
              " ('customer_type', 0.0026550562773852175),\n",
              " ('children', 0.0010397109183714751),\n",
              " ('previous_bookings_not_canceled', 0.0005740391233255655)]"
            ]
          },
          "metadata": {},
          "execution_count": 72
        }
      ],
      "source": [
        "sorted(tuple(zip(X.columns, selected_model['model'].feature_importances_)), key=lambda x:-x[1])"
      ]
    },
    {
      "cell_type": "markdown",
      "source": [
        "The above feature importance informs hotel management staff to correct any biases they might have regard to what kind of reservations can lead to cancellations. "
      ],
      "metadata": {
        "id": "tAYTdM6iKtKC"
      },
      "id": "tAYTdM6iKtKC"
    },
    {
      "cell_type": "markdown",
      "id": "6o7nbeHuX8Iz",
      "metadata": {
        "id": "6o7nbeHuX8Iz"
      },
      "source": [
        "#**Inference and Value Proposition**\n",
        "Tying up model performance to its value proposition as it stands.\n",
        "\n",
        "**Here we will talk about how the F2, Precision, and Recall of our model affects the aggressiveness of offering additional incentives (discounts and offers) and its following impact on revenue/profit given our assumptions above.**"
      ]
    },
    {
      "cell_type": "markdown",
      "source": [
        "In our assumption, we showcased using industry standards how our discounting rates would cost us \\$5.6 or 8% of our total revenue, whereas a normal sale would result in a profit of an average \\$11.2 or 16% on revenue.\n",
        "\n",
        "Given that, we see that x ratio of our user base cancels their reservation."
      ],
      "metadata": {
        "id": "yd1JlC11wl7s"
      },
      "id": "yd1JlC11wl7s"
    },
    {
      "cell_type": "code",
      "execution_count": null,
      "id": "5d_xAjRfYDTW",
      "metadata": {
        "id": "5d_xAjRfYDTW"
      },
      "outputs": [],
      "source": [
        "x = 0.2796 # as seen in the EDA above\n",
        "n = 5_000 # number of bookings in a hotel in a time year (analysis variable)"
      ]
    },
    {
      "cell_type": "markdown",
      "source": [
        "For the purposes of this analysis, let us assume that c ration of those cancellations could be saved if we offered discounts to our churning customers, and the rest of the cancellations were for unavoidable reasons.\n",
        "\n",
        "Note: This can only be assessed after the discount campaign is already in force.\n"
      ],
      "metadata": {
        "id": "IpjLAm_uxHLB"
      },
      "id": "IpjLAm_uxHLB"
    },
    {
      "cell_type": "code",
      "source": [
        "c = 0.6215 # analysis variable"
      ],
      "metadata": {
        "id": "Q-k6_HW1xNJg"
      },
      "id": "Q-k6_HW1xNJg",
      "execution_count": null,
      "outputs": []
    },
    {
      "cell_type": "markdown",
      "source": [
        "iven a recall rate of r%, the total number of people (n test cases) who were about to cancel (n x x%) who will be correctly identified will be:\n",
        "\n",
        "\tidentified_churners = n * x% * r%\n",
        "\n",
        "We also know from our analysis above that on giving a discount, we make 8% profit (typical profit % (16) - average discount rate % (8)) of revenue, instead of the full 16% profit."
      ],
      "metadata": {
        "id": "o3OPXFNCxgN4"
      },
      "id": "o3OPXFNCxgN4"
    },
    {
      "cell_type": "markdown",
      "source": [
        "Now profit that could be made from churners who were retained: \n",
        "    \n",
        "    n * x% * r% * c% * 8%"
      ],
      "metadata": {
        "id": "UNuKmG1IyH-K"
      },
      "id": "UNuKmG1IyH-K"
    },
    {
      "cell_type": "code",
      "source": [
        "positive_affect_on_profit = n * x * test_recall * c * 0.08\n",
        "print(f'{positive_affect_on_profit:0.4f}')"
      ],
      "metadata": {
        "colab": {
          "base_uri": "https://localhost:8080/"
        },
        "id": "b8844sNfyHoY",
        "outputId": "62bde39c-0c5f-4e93-b177-d93d8cc8f756"
      },
      "id": "b8844sNfyHoY",
      "execution_count": null,
      "outputs": [
        {
          "output_type": "stream",
          "name": "stdout",
          "text": [
            "54.1097\n"
          ]
        }
      ]
    },
    {
      "cell_type": "markdown",
      "source": [
        "Above is the absolute profit that we can make by implementing our classifier and serving it to a hotel company. "
      ],
      "metadata": {
        "id": "bfnKWA4jzB_w"
      },
      "id": "bfnKWA4jzB_w"
    },
    {
      "cell_type": "markdown",
      "source": [
        "But, of course, our model would make false positive classifications as well - where the customers who were not about to cancel get discounts. This would become the negative influence of running our model and offering a discount for no immediate benefit.\n",
        "\n",
        "To calculate this cost we would use the false positive rate (`test_fpr`) of our model and multiply it by the negative case rate (`1 - x`) for our scenario.\n",
        "\n",
        "Now the ‘loss’ in profit of running this offer with our model would be\n",
        "    \n",
        "    n* fpr * (1 - x) * reduced_profit_by_discount_ratio\n",
        "\n",
        "where `reduced_profit_by_discount_ratio` = 0.08 as discussed above"
      ],
      "metadata": {
        "id": "Sk7PhjzDzOJO"
      },
      "id": "Sk7PhjzDzOJO"
    },
    {
      "cell_type": "code",
      "source": [
        "negative_affect_on_profit = n * test_fpr * (1 - x) * 0.08\n",
        "print(negative_affect_on_profit)"
      ],
      "metadata": {
        "colab": {
          "base_uri": "https://localhost:8080/"
        },
        "id": "yZaM3gQ_zBdp",
        "outputId": "c92bdfb8-66c7-4181-b46c-168a562a8c94"
      },
      "id": "yZaM3gQ_zBdp",
      "execution_count": null,
      "outputs": [
        {
          "output_type": "stream",
          "name": "stdout",
          "text": [
            "53.989828996282526\n"
          ]
        }
      ]
    },
    {
      "cell_type": "markdown",
      "source": [
        "Above is the negative affect on profits because of running this campaign.\n",
        "\n",
        "Net affect of running our campaign driven by the model we have created (ratio of total revenue):\n",
        "\n"
      ],
      "metadata": {
        "id": "VUz9SORGz7PY"
      },
      "id": "VUz9SORGz7PY"
    },
    {
      "cell_type": "code",
      "source": [
        "net_affect = positive_affect_on_profit - negative_affect_on_profit\n",
        "print(f'net affect of running on profit of running the campaign we designed:\\n {net_affect:0.2f} of total revenue')"
      ],
      "metadata": {
        "colab": {
          "base_uri": "https://localhost:8080/"
        },
        "id": "3AncUV3vxf9n",
        "outputId": "0ca90f40-f3c2-4d48-f961-ea35b0c634e3"
      },
      "id": "3AncUV3vxf9n",
      "execution_count": null,
      "outputs": [
        {
          "output_type": "stream",
          "name": "stdout",
          "text": [
            "net affect of running on profit of running the campaign we designed:\n",
            " 0.12 of total revenue\n"
          ]
        }
      ]
    },
    {
      "cell_type": "markdown",
      "source": [
        "Major Observation:\n",
        "\n",
        "If our conversion rate of churing customers to staying customer is greater than `0.6215` our campaign is successful."
      ],
      "metadata": {
        "id": "uO4YXHnA0uto"
      },
      "id": "uO4YXHnA0uto"
    },
    {
      "cell_type": "markdown",
      "source": [
        "**Ideas to mitigate False Positive Results:**\n",
        "\n",
        "leave offering discount to telecallers who can try and identify if the customer is about to churn. This qualitative interaction can drastically reduce the impact of False Positive Predictions and hence make our campagin an un-precedented success."
      ],
      "metadata": {
        "id": "3XGo4ww-1ND6"
      },
      "id": "3XGo4ww-1ND6"
    },
    {
      "cell_type": "code",
      "source": [],
      "metadata": {
        "id": "cQkRNSCTxD5E"
      },
      "id": "cQkRNSCTxD5E",
      "execution_count": null,
      "outputs": []
    }
  ],
  "metadata": {
    "colab": {
      "provenance": [],
      "collapsed_sections": [
        "4pTfUwayC1no",
        "KXoJNn5O8BXf",
        "0803eec1",
        "4q7wI5oU9iAG",
        "BwGtBNASBP9s"
      ],
      "toc_visible": true,
      "include_colab_link": true
    },
    "kernelspec": {
      "display_name": "Python 3 (ipykernel)",
      "language": "python",
      "name": "python3"
    },
    "language_info": {
      "codemirror_mode": {
        "name": "ipython",
        "version": 3
      },
      "file_extension": ".py",
      "mimetype": "text/x-python",
      "name": "python",
      "nbconvert_exporter": "python",
      "pygments_lexer": "ipython3",
      "version": "3.9.12"
    }
  },
  "nbformat": 4,
  "nbformat_minor": 5
}